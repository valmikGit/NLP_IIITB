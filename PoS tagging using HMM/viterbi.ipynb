{
 "cells": [
  {
   "cell_type": "code",
   "execution_count": 87,
   "metadata": {},
   "outputs": [],
   "source": [
    "import pandas as pd\n",
    "\n",
    "# Load the dataset\n",
    "train_file = \"train_data.csv\"\n",
    "test_file = \"validation_data.csv\"\n",
    "\n",
    "train_data = pd.read_csv(train_file)\n",
    "test_data = pd.read_csv(test_file)"
   ]
  },
  {
   "cell_type": "code",
   "execution_count": null,
   "metadata": {},
   "outputs": [],
   "source": [
    "print(train_data)"
   ]
  },
  {
   "cell_type": "code",
   "execution_count": 89,
   "metadata": {},
   "outputs": [],
   "source": [
    "from collections import defaultdict\n",
    "import ast\n",
    "\n",
    "# Dictionary of tag vs count\n",
    "tag_dict = defaultdict(int)\n",
    "\n",
    "# Dictionary of {word, tag} vs count\n",
    "word_tag_dict = defaultdict(int)\n",
    "\n",
    "# Dictionary of {tag i, tag i + 1} vs count\n",
    "two_tag_dict = defaultdict(int)\n",
    "\n",
    "# Total sentence count\n",
    "sentence_count = 0\n",
    "\n",
    "# Dictionary of first word vs count\n",
    "first_word_dict = defaultdict(int)\n",
    "\n",
    "for index, row in train_data.iterrows():\n",
    "    sentence = ast.literal_eval(row.iloc[0])\n",
    "    sentence_count = sentence_count + 1\n",
    "\n",
    "    first_word_dict[(sentence[0][0], sentence[0][1])] = first_word_dict[(sentence[0][0], sentence[0][1])] + 1\n",
    "\n",
    "    prev_tag = None\n",
    "    for word, tag in sentence:\n",
    "        tag_dict[tag] = tag_dict[tag] + 1\n",
    "        word_tag_dict[(word, tag)] = word_tag_dict[(word, tag)] + 1\n",
    "\n",
    "        if prev_tag is not None:\n",
    "            two_tag_dict[(prev_tag, tag)] = two_tag_dict[(prev_tag, tag)] + 1\n",
    "        prev_tag = tag"
   ]
  },
  {
   "cell_type": "code",
   "execution_count": null,
   "metadata": {},
   "outputs": [],
   "source": [
    "print(tag_dict)"
   ]
  },
  {
   "cell_type": "code",
   "execution_count": null,
   "metadata": {},
   "outputs": [],
   "source": [
    "for key, value in word_tag_dict.items():\n",
    "    print(f\"Key = {key}, Value = {value}\")"
   ]
  },
  {
   "cell_type": "code",
   "execution_count": null,
   "metadata": {},
   "outputs": [],
   "source": [
    "for key, value in two_tag_dict.items():\n",
    "    print(f\"Key = {key}, value = {value}\")"
   ]
  },
  {
   "cell_type": "code",
   "execution_count": null,
   "metadata": {},
   "outputs": [],
   "source": [
    "for key, value in first_word_dict.items():\n",
    "    print(f\"Key = {key}, value = {value}\")"
   ]
  },
  {
   "cell_type": "code",
   "execution_count": 94,
   "metadata": {},
   "outputs": [],
   "source": [
    "# Emission probability\n",
    "emission_probability = defaultdict(lambda: defaultdict(int))\n",
    "\n",
    "# Transition probability\n",
    "transition_probability = defaultdict(lambda: defaultdict(int))\n",
    "\n",
    "# Initial probability\n",
    "initial_probability = defaultdict(int)\n",
    "\n",
    "for key, value in word_tag_dict.items():\n",
    "    emission_probability[key[0]][key[1]] = word_tag_dict[key]/tag_dict[key[1]]\n",
    "\n",
    "for key, value in two_tag_dict.items():\n",
    "    transition_probability[key[0]][key[1]] = two_tag_dict[key]/tag_dict[key[0]]\n",
    "\n",
    "for key, value in first_word_dict.items():\n",
    "    initial_probability[key[1]] = initial_probability[key[1]] + value/sentence_count\n",
    "\n",
    "transition_probability[\"START\"] = initial_probability"
   ]
  },
  {
   "cell_type": "code",
   "execution_count": null,
   "metadata": {},
   "outputs": [],
   "source": [
    "for word in emission_probability.keys():\n",
    "    for tag, prob in emission_probability[word].items():\n",
    "        print(f\"Word = {word}, Tag = {tag}, Probability = {prob}\")"
   ]
  },
  {
   "cell_type": "code",
   "execution_count": null,
   "metadata": {},
   "outputs": [],
   "source": [
    "for tag_1 in transition_probability.keys():\n",
    "    for tag_2, prob in transition_probability[tag_1].items():\n",
    "        print(f\"Tag 1 = {tag_1}, Tag 2 = {tag_2}, Probability = {prob}\")"
   ]
  },
  {
   "cell_type": "code",
   "execution_count": null,
   "metadata": {},
   "outputs": [],
   "source": [
    "for key, value in initial_probability.items():\n",
    "    print(f\"Tag = {key}, Probability = {value}\")"
   ]
  }
 ],
 "metadata": {
  "kernelspec": {
   "display_name": "nlpenv",
   "language": "python",
   "name": "python3"
  },
  "language_info": {
   "codemirror_mode": {
    "name": "ipython",
    "version": 3
   },
   "file_extension": ".py",
   "mimetype": "text/x-python",
   "name": "python",
   "nbconvert_exporter": "python",
   "pygments_lexer": "ipython3",
   "version": "3.12.4"
  }
 },
 "nbformat": 4,
 "nbformat_minor": 2
}
