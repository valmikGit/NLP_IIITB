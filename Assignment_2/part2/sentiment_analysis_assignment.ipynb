{
 "cells": [
  {
   "cell_type": "markdown",
   "id": "1021f1df",
   "metadata": {},
   "source": [
    "\n",
    "# Step 1: Understand the Dataset\n",
    "\n",
    "## 1. Load the Dataset\n",
    "We load the sentiment analysis dataset using pandas. The dataset contains two important columns: **Text** and **Sentiment**. Each row represents a sentence and its corresponding sentiment label.\n"
   ]
  },
  {
   "cell_type": "code",
   "execution_count": 85,
   "id": "9034862c",
   "metadata": {},
   "outputs": [],
   "source": [
    "import pandas as pd\n",
    "df = pd.read_csv(\"sentimentdataset.csv\")"
   ]
  },
  {
   "cell_type": "code",
   "execution_count": 86,
   "id": "b10deaf2",
   "metadata": {},
   "outputs": [
    {
     "data": {
      "text/plain": [
       "Index(['Unnamed: 0.1', 'Unnamed: 0', 'Text', 'Sentiment', 'Timestamp', 'User',\n",
       "       'Platform', 'Hashtags', 'Retweets', 'Likes', 'Country', 'Year', 'Month',\n",
       "       'Day', 'Hour'],\n",
       "      dtype='object')"
      ]
     },
     "execution_count": 86,
     "metadata": {},
     "output_type": "execute_result"
    }
   ],
   "source": [
    "df.columns"
   ]
  },
  {
   "cell_type": "code",
   "execution_count": 87,
   "id": "7a52af20",
   "metadata": {},
   "outputs": [
    {
     "data": {
      "text/html": [
       "<div>\n",
       "<style scoped>\n",
       "    .dataframe tbody tr th:only-of-type {\n",
       "        vertical-align: middle;\n",
       "    }\n",
       "\n",
       "    .dataframe tbody tr th {\n",
       "        vertical-align: top;\n",
       "    }\n",
       "\n",
       "    .dataframe thead th {\n",
       "        text-align: right;\n",
       "    }\n",
       "</style>\n",
       "<table border=\"1\" class=\"dataframe\">\n",
       "  <thead>\n",
       "    <tr style=\"text-align: right;\">\n",
       "      <th></th>\n",
       "      <th>Unnamed: 0.1</th>\n",
       "      <th>Unnamed: 0</th>\n",
       "      <th>Text</th>\n",
       "      <th>Sentiment</th>\n",
       "      <th>Timestamp</th>\n",
       "      <th>User</th>\n",
       "      <th>Platform</th>\n",
       "      <th>Hashtags</th>\n",
       "      <th>Retweets</th>\n",
       "      <th>Likes</th>\n",
       "      <th>Country</th>\n",
       "      <th>Year</th>\n",
       "      <th>Month</th>\n",
       "      <th>Day</th>\n",
       "      <th>Hour</th>\n",
       "    </tr>\n",
       "  </thead>\n",
       "  <tbody>\n",
       "    <tr>\n",
       "      <th>0</th>\n",
       "      <td>0</td>\n",
       "      <td>0</td>\n",
       "      <td>Enjoying a beautiful day at the park!        ...</td>\n",
       "      <td>Positive</td>\n",
       "      <td>2023-01-15 12:30:00</td>\n",
       "      <td>User123</td>\n",
       "      <td>Twitter</td>\n",
       "      <td>#Nature #Park</td>\n",
       "      <td>15.0</td>\n",
       "      <td>30.0</td>\n",
       "      <td>USA</td>\n",
       "      <td>2023</td>\n",
       "      <td>1</td>\n",
       "      <td>15</td>\n",
       "      <td>12</td>\n",
       "    </tr>\n",
       "    <tr>\n",
       "      <th>1</th>\n",
       "      <td>1</td>\n",
       "      <td>1</td>\n",
       "      <td>Traffic was terrible this morning.           ...</td>\n",
       "      <td>Negative</td>\n",
       "      <td>2023-01-15 08:45:00</td>\n",
       "      <td>CommuterX</td>\n",
       "      <td>Twitter</td>\n",
       "      <td>#Traffic #Morning</td>\n",
       "      <td>5.0</td>\n",
       "      <td>10.0</td>\n",
       "      <td>Canada</td>\n",
       "      <td>2023</td>\n",
       "      <td>1</td>\n",
       "      <td>15</td>\n",
       "      <td>8</td>\n",
       "    </tr>\n",
       "    <tr>\n",
       "      <th>2</th>\n",
       "      <td>2</td>\n",
       "      <td>2</td>\n",
       "      <td>Just finished an amazing workout! 💪          ...</td>\n",
       "      <td>Positive</td>\n",
       "      <td>2023-01-15 15:45:00</td>\n",
       "      <td>FitnessFan</td>\n",
       "      <td>Instagram</td>\n",
       "      <td>#Fitness #Workout</td>\n",
       "      <td>20.0</td>\n",
       "      <td>40.0</td>\n",
       "      <td>USA</td>\n",
       "      <td>2023</td>\n",
       "      <td>1</td>\n",
       "      <td>15</td>\n",
       "      <td>15</td>\n",
       "    </tr>\n",
       "    <tr>\n",
       "      <th>3</th>\n",
       "      <td>3</td>\n",
       "      <td>3</td>\n",
       "      <td>Excited about the upcoming weekend getaway!  ...</td>\n",
       "      <td>Positive</td>\n",
       "      <td>2023-01-15 18:20:00</td>\n",
       "      <td>AdventureX</td>\n",
       "      <td>Facebook</td>\n",
       "      <td>#Travel #Adventure</td>\n",
       "      <td>8.0</td>\n",
       "      <td>15.0</td>\n",
       "      <td>UK</td>\n",
       "      <td>2023</td>\n",
       "      <td>1</td>\n",
       "      <td>15</td>\n",
       "      <td>18</td>\n",
       "    </tr>\n",
       "    <tr>\n",
       "      <th>4</th>\n",
       "      <td>4</td>\n",
       "      <td>4</td>\n",
       "      <td>Trying out a new recipe for dinner tonight.  ...</td>\n",
       "      <td>Neutral</td>\n",
       "      <td>2023-01-15 19:55:00</td>\n",
       "      <td>ChefCook</td>\n",
       "      <td>Instagram</td>\n",
       "      <td>#Cooking #Food</td>\n",
       "      <td>12.0</td>\n",
       "      <td>25.0</td>\n",
       "      <td>Australia</td>\n",
       "      <td>2023</td>\n",
       "      <td>1</td>\n",
       "      <td>15</td>\n",
       "      <td>19</td>\n",
       "    </tr>\n",
       "  </tbody>\n",
       "</table>\n",
       "</div>"
      ],
      "text/plain": [
       "   Unnamed: 0.1  Unnamed: 0  \\\n",
       "0             0           0   \n",
       "1             1           1   \n",
       "2             2           2   \n",
       "3             3           3   \n",
       "4             4           4   \n",
       "\n",
       "                                                Text    Sentiment  \\\n",
       "0   Enjoying a beautiful day at the park!        ...   Positive     \n",
       "1   Traffic was terrible this morning.           ...   Negative     \n",
       "2   Just finished an amazing workout! 💪          ...   Positive     \n",
       "3   Excited about the upcoming weekend getaway!  ...   Positive     \n",
       "4   Trying out a new recipe for dinner tonight.  ...   Neutral      \n",
       "\n",
       "             Timestamp            User     Platform  \\\n",
       "0  2023-01-15 12:30:00   User123          Twitter     \n",
       "1  2023-01-15 08:45:00   CommuterX        Twitter     \n",
       "2  2023-01-15 15:45:00   FitnessFan      Instagram    \n",
       "3  2023-01-15 18:20:00   AdventureX       Facebook    \n",
       "4  2023-01-15 19:55:00   ChefCook        Instagram    \n",
       "\n",
       "                                     Hashtags  Retweets  Likes       Country  \\\n",
       "0   #Nature #Park                                  15.0   30.0     USA         \n",
       "1   #Traffic #Morning                               5.0   10.0     Canada      \n",
       "2   #Fitness #Workout                              20.0   40.0   USA           \n",
       "3   #Travel #Adventure                              8.0   15.0     UK          \n",
       "4   #Cooking #Food                                 12.0   25.0    Australia    \n",
       "\n",
       "   Year  Month  Day  Hour  \n",
       "0  2023      1   15    12  \n",
       "1  2023      1   15     8  \n",
       "2  2023      1   15    15  \n",
       "3  2023      1   15    18  \n",
       "4  2023      1   15    19  "
      ]
     },
     "execution_count": 87,
     "metadata": {},
     "output_type": "execute_result"
    }
   ],
   "source": [
    "df.head(5)"
   ]
  },
  {
   "cell_type": "code",
   "execution_count": 88,
   "id": "bd1d5074",
   "metadata": {},
   "outputs": [
    {
     "name": "stdout",
     "output_type": "stream",
     "text": [
      "Unique sentiment values before categorization: [' Positive  ' ' Negative  ' ' Neutral   ' ' Anger        '\n",
      " ' Fear         ' ' Sadness      ' ' Disgust      ' ' Happiness    '\n",
      " ' Joy          ' ' Love         ' ' Amusement    ' ' Enjoyment    '\n",
      " ' Admiration   ' ' Affection    ' ' Awe          ' ' Disappointed '\n",
      " ' Surprise     ' ' Acceptance   ' ' Adoration    ' ' Anticipation '\n",
      " ' Bitter       ' ' Calmness     ' ' Confusion    ' ' Excitement   '\n",
      " ' Kind         ' ' Pride        ' ' Shame        ' ' Confusion '\n",
      " ' Excitement ' ' Shame ' ' Elation       ' ' Euphoria      '\n",
      " ' Contentment   ' ' Serenity      ' ' Gratitude     ' ' Hope          '\n",
      " ' Empowerment   ' ' Compassion    ' ' Tenderness    ' ' Arousal       '\n",
      " ' Enthusiasm    ' ' Fulfillment  ' ' Reverence     ' ' Compassion'\n",
      " ' Fulfillment   ' ' Reverence ' ' Elation   ' ' Despair         '\n",
      " ' Grief           ' ' Loneliness      ' ' Jealousy        '\n",
      " ' Resentment      ' ' Frustration     ' ' Boredom         '\n",
      " ' Anxiety         ' ' Intimidation    ' ' Helplessness    '\n",
      " ' Envy            ' ' Regret         ' ' Disgust         '\n",
      " ' Despair      ' ' Loneliness ' ' Frustration ' ' Anxiety   '\n",
      " ' Intimidation ' ' Helplessness ' ' Jealousy    ' ' Curiosity       '\n",
      " ' Indifference    ' ' Confusion       ' ' Numbness        '\n",
      " ' Melancholy      ' ' Nostalgia       ' ' Ambivalence     '\n",
      " ' Acceptance      ' ' Determination   ' ' Serenity        ' ' Numbness '\n",
      " ' Zest ' ' Contentment ' ' Hopeful ' ' Proud ' ' Grateful '\n",
      " ' Empathetic ' ' Compassionate ' ' Playful ' ' Free-spirited '\n",
      " ' Inspired ' ' Confident ' ' Serenity ' ' Curiosity ' ' Ambivalence '\n",
      " ' Despair ' ' Bitterness ' ' Yearning ' ' Fearful ' ' Apprehensive '\n",
      " ' Overwhelmed ' ' Jealous ' ' Devastated ' ' Frustrated ' ' Envious '\n",
      " ' Dismissive ' ' Awe           ' ' Determination ' ' Nostalgia      '\n",
      " ' Thrill        ' ' Calmness      ' ' Overwhelmed   ' ' Gratitude   '\n",
      " ' Bittersweet ' ' Curiosity     ' ' Admiration    ' ' Overjoyed     '\n",
      " ' Inspiration   ' ' Motivation    ' ' Amusement     ' ' Contemplation '\n",
      " ' JoyfulReunion ' ' Excitement    ' ' Satisfaction  ' ' Blessed       '\n",
      " ' Anticipation  ' ' Reflection    ' ' Nostalgia     ' ' Appreciation  '\n",
      " ' Confidence    ' ' Surprise      ' ' Accomplishment ' ' Wonderment    '\n",
      " ' Optimism      ' ' Pride         ' ' Happiness     ' ' Curiosity   '\n",
      " ' Enchantment   ' ' Intrigue      ' ' PlayfulJoy    ' ' Mindfulness   '\n",
      " ' DreamChaser   ' ' Elegance ' ' Whimsy        ' ' Pensive '\n",
      " ' Thrill      ' ' Harmony    ' ' Creativity   ' ' Radiance    '\n",
      " ' Wonder     ' ' Rejuvenation ' ' Inspiration ' ' Coziness     '\n",
      " ' Gratitude  ' ' Adventure ' ' Euphoria   ' ' Awe    ' ' Melodic       '\n",
      " ' FestiveJoy    ' ' InnerJourney  ' ' Freedom       ' ' Dazzle        '\n",
      " ' Adrenaline     ' ' Harmony       ' ' ArtisticBurst ' ' Radiance      '\n",
      " ' Wonder       ' ' Inspiration  ' ' CulinaryOdyssey ' ' Euphoria     '\n",
      " ' Curiosity  ' ' Resilience   ' ' Immersion ' ' Nostalgia '\n",
      " ' Spark        ' ' Gratitude    ' ' Marvel       ' ' Serenity   '\n",
      " ' Heartbreak    ' ' Loneliness    ' ' Grief      ' ' Despair   '\n",
      " ' Betrayal      ' ' Suffering ' ' EmotionalStorm ' ' Regret        '\n",
      " ' Isolation ' ' Disappointment ' ' LostLove ' ' Melancholy '\n",
      " ' Exhaustion ' ' Sorrow      ' ' Darkness     ' ' Desperation '\n",
      " ' Ruins      ' ' Desolation ' ' Regret ' ' Grief ' ' Heartbreak '\n",
      " ' Betrayal ' ' Resilience ' ' Sorrow ' ' Loss ' ' Heartache '\n",
      " ' Solitude ' ' Joy ' ' Happiness ' ' Enthusiasm ' ' Gratitude '\n",
      " ' Positivity ' ' Kindness ' ' Friendship ' ' Love ' ' Surprise '\n",
      " ' Success ' ' Thrill ' ' Reflection ' ' Enchantment ' ' Exploration '\n",
      " ' Awe ' ' Amazement ' ' Romance ' ' Captivation ' ' Wonder '\n",
      " ' Tranquility ' ' Grandeur ' ' Emotion ' ' Energy ' ' Celebration '\n",
      " ' Charm ' ' Ecstasy ' ' Hope ' ' Creativity ' ' Colorful ' ' Pride '\n",
      " ' Hypnotic ' ' Connection ' ' Iconic ' ' Euphoria ' ' Journey '\n",
      " ' Engagement ' ' Touched ' ' Suspense ' ' Satisfaction ' ' Admiration '\n",
      " ' Triumph ' ' Heartwarming ' ' Obstacle ' ' Sympathy ' ' Pressure '\n",
      " ' Renewed Effort ' ' Miscalculation ' ' Challenge ' ' Solace '\n",
      " ' Breakthrough ' ' Harmony ' ' Joy in Baking ' ' Envisioning History '\n",
      " ' Imagination ' ' Vibrancy ' ' Mesmerizing ' ' Culinary Adventure '\n",
      " ' Winter Magic ' ' Thrilling Journey ' \" Nature's Beauty \"\n",
      " ' Celestial Wonder ' ' Creative Inspiration ' ' Runway Creativity '\n",
      " \" Ocean's Freedom \" ' Whispers of the Past ' ' Boredom ' ' Indifference '\n",
      " ' Disgust ' ' Relief ' ' Positive ' ' Embarrassed ' ' Mischievous '\n",
      " ' Sad ' ' Hate ' ' Bad ' ' Neutral ' ' Happy ']\n"
     ]
    }
   ],
   "source": [
    "print(\"Unique sentiment values before categorization:\", df[\"Sentiment\"].unique())"
   ]
  },
  {
   "cell_type": "code",
   "execution_count": 89,
   "id": "63cee82e",
   "metadata": {},
   "outputs": [],
   "source": [
    "df = df[[\"Text\", \"Sentiment\"]].dropna()\n",
    "df[\"Sentiment\"] = df[\"Sentiment\"].str.strip()"
   ]
  },
  {
   "cell_type": "markdown",
   "id": "6559b469",
   "metadata": {},
   "source": [
    "\n",
    "# Step 2: Preprocessing\n",
    "\n",
    "## 1. Text Cleaning and Normalization\n",
    "We preprocess the text data by converting it to lowercase, removing punctuation and stopwords, and applying stemming and lemmatization.\n"
   ]
  },
  {
   "cell_type": "code",
   "execution_count": 90,
   "id": "7dd2f528",
   "metadata": {},
   "outputs": [
    {
     "name": "stderr",
     "output_type": "stream",
     "text": [
      "[nltk_data] Downloading package stopwords to\n",
      "[nltk_data]     C:\\Users\\HP\\AppData\\Roaming\\nltk_data...\n",
      "[nltk_data]   Package stopwords is already up-to-date!\n",
      "[nltk_data] Downloading package wordnet to\n",
      "[nltk_data]     C:\\Users\\HP\\AppData\\Roaming\\nltk_data...\n",
      "[nltk_data]   Package wordnet is already up-to-date!\n"
     ]
    }
   ],
   "source": [
    "import re\n",
    "import nltk\n",
    "from nltk.corpus import stopwords\n",
    "from nltk.stem import WordNetLemmatizer, PorterStemmer\n",
    "\n",
    "# Download necessary NLTK resources\n",
    "nltk.download('stopwords')\n",
    "nltk.download('wordnet')\n",
    "stop_words = set(stopwords.words('english'))\n",
    "lemmatizer = WordNetLemmatizer()\n",
    "stemmer = PorterStemmer()\n",
    "\n",
    "# Text Preprocessing Function\n",
    "def preprocess_text(text):\n",
    "    if pd.isna(text):\n",
    "        return \"\"\n",
    "    text = text.lower()\n",
    "    text = re.sub(r'[^a-zA-Z\\s]', '', text)\n",
    "    words = text.split()\n",
    "    words = [lemmatizer.lemmatize(stemmer.stem(word)) for word in words if word not in stop_words]\n",
    "    return ' '.join(words).strip()\n",
    "\n",
    "# Apply preprocessing\n",
    "df[\"ProcessedText\"] = df[\"Text\"].apply(preprocess_text)"
   ]
  },
  {
   "cell_type": "markdown",
   "id": "6acec139",
   "metadata": {},
   "source": [
    "\n",
    "## 2. Sentiment Categorization with spaCy Embeddings\n",
    "We use spaCy's pre-trained word embeddings to map raw sentiment labels into one of three standardized sentiment categories: **Positive**, **Negative**, and **Neutral**.\n"
   ]
  },
  {
   "cell_type": "code",
   "execution_count": 91,
   "id": "1a5f3bc4",
   "metadata": {},
   "outputs": [
    {
     "name": "stdout",
     "output_type": "stream",
     "text": [
      "Unique sentiment values after categorization: ['Neutral' 'Positive' 'Negative']\n"
     ]
    }
   ],
   "source": [
    "\n",
    "import spacy\n",
    "import numpy as np\n",
    "from sklearn.metrics.pairwise import cosine_similarity\n",
    "\n",
    "# Load spaCy model\n",
    "nlp = spacy.load(\"en_core_web_md\")\n",
    "\n",
    "# Reference words for sentiment categories\n",
    "ref_words = {\n",
    "    \"Positive\": [\"happy\", \"great\", \"good\", \"excellent\", \"amazing\", \"positive\"],\n",
    "    \"Negative\": [\"sad\", \"bad\", \"terrible\", \"horrible\", \"negative\", \"awful\"],\n",
    "    \"Neutral\": [\"okay\", \"neutral\", \"average\", \"moderate\", \"indifferent\"]\n",
    "}\n",
    "\n",
    "# Compute average vector for each category\n",
    "def compute_average_vector(words):\n",
    "    vectors = [nlp(word).vector for word in words if nlp(word).has_vector]\n",
    "    return np.mean(vectors, axis=0) if vectors else np.zeros((nlp(\"positive\").vector.shape[0],))\n",
    "\n",
    "ref_vectors = {category: compute_average_vector(words) for category, words in ref_words.items()}\n",
    "\n",
    "# Normalize reference vectors\n",
    "for category in ref_vectors:\n",
    "    ref_vectors[category] /= np.linalg.norm(ref_vectors[category])\n",
    "\n",
    "# Assign sentiment based on cosine similarity\n",
    "def assign_sentiment_category(sentiment):\n",
    "    doc = nlp(sentiment)\n",
    "    if not doc.has_vector:\n",
    "        return \"Neutral\"\n",
    "    word_vector = doc.vector / np.linalg.norm(doc.vector)\n",
    "    similarities = {category: cosine_similarity([word_vector], [ref_vec])[0][0] for category, ref_vec in ref_vectors.items()}\n",
    "    return max(similarities, key=similarities.get)\n",
    "\n",
    "# Apply sentiment classification\n",
    "df[\"Sentiment\"] = df[\"Sentiment\"].apply(assign_sentiment_category)\n",
    "print(\"Unique sentiment values after categorization:\", df[\"Sentiment\"].unique())\n"
   ]
  },
  {
   "cell_type": "markdown",
   "id": "1ff41394",
   "metadata": {},
   "source": [
    "\n",
    "# Step 3: Define Neural Network Architecture\n",
    "\n",
    "## Label Encoding and Vectorization\n",
    "We encode sentiment labels and convert the processed text into TF-IDF features.\n"
   ]
  },
  {
   "cell_type": "code",
   "execution_count": 92,
   "id": "6f663fd3",
   "metadata": {},
   "outputs": [],
   "source": [
    "\n",
    "from sklearn.preprocessing import LabelEncoder\n",
    "from sklearn.model_selection import train_test_split\n",
    "from sklearn.feature_extraction.text import TfidfVectorizer\n",
    "\n",
    "# Encode labels\n",
    "label_encoder = LabelEncoder()\n",
    "df[\"SentimentEncoded\"] = label_encoder.fit_transform(df[\"Sentiment\"])\n",
    "\n",
    "# Split dataset\n",
    "X = df[\"ProcessedText\"]\n",
    "y = df[\"SentimentEncoded\"]\n",
    "X_train, X_test, y_train, y_test = train_test_split(X, y, test_size=0.2, random_state=42, stratify=y)\n",
    "\n",
    "# TF-IDF Vectorization\n",
    "vectorizer = TfidfVectorizer(ngram_range=(1, 3), max_features=30000, min_df=3, stop_words=\"english\", sublinear_tf=True)\n",
    "X_train_tfidf = vectorizer.fit_transform(X_train)\n",
    "X_test_tfidf = vectorizer.transform(X_test)\n"
   ]
  },
  {
   "cell_type": "markdown",
   "id": "fc17ec35",
   "metadata": {},
   "source": [
    "\n",
    "## Choice of Architecture\n",
    "We use **MLPClassifier** with two hidden layers (100 neurons each) and ReLU activation. The choice of this architecture balances complexity and generalization, with dropout for regularization in DNN. Loss function is **categorical cross-entropy**, suitable for multi-class classification.\n"
   ]
  },
  {
   "cell_type": "markdown",
   "id": "1357e168",
   "metadata": {},
   "source": [
    "\n",
    "# Step 4: Train and Validate the Model\n",
    "\n",
    "## Handle Class Imbalance with SMOTE\n",
    "We apply SMOTE (Synthetic Minority Oversampling Technique) to balance classes in training data.\n"
   ]
  },
  {
   "cell_type": "code",
   "execution_count": 93,
   "id": "f471c4cb",
   "metadata": {},
   "outputs": [],
   "source": [
    "\n",
    "from imblearn.over_sampling import SMOTE\n",
    "\n",
    "# Apply SMOTE\n",
    "from collections import Counter\n",
    "min_class_size = Counter(y_train).most_common()[-1][1]\n",
    "k_neighbors = min(5, min_class_size - 1) if min_class_size > 1 else 1\n",
    "smote = SMOTE(random_state=42, k_neighbors=k_neighbors)\n",
    "X_train_tfidf, y_train = smote.fit_resample(X_train_tfidf, y_train)\n"
   ]
  },
  {
   "cell_type": "markdown",
   "id": "28f071db",
   "metadata": {},
   "source": [
    "\n",
    "## Train MLP Classifier\n",
    "We use the Adam optimizer with a constant learning rate. The model is trained for 500 iterations. We experimented using Grid Search CV to find the best parameters for the MLP classifier. We also tried training the MLP without categorizing all the sentiments into 'Positive', 'Negative' and 'Neutral'. With 191 unique sentiment labels, the dataset is highly fragmented, making it difficult for models to learn meaningful patterns. Reducing it to three broad categories ensures better generalization and reduces overfitting.\n"
   ]
  },
  {
   "cell_type": "code",
   "execution_count": 94,
   "id": "48499ddf",
   "metadata": {},
   "outputs": [
    {
     "name": "stdout",
     "output_type": "stream",
     "text": [
      "MLP Accuracy: 0.6599\n",
      "MLP Classification Report:\n",
      "               precision    recall  f1-score   support\n",
      "\n",
      "           0       0.70      0.65      0.67        43\n",
      "           1       0.67      0.67      0.67        60\n",
      "           2       0.62      0.66      0.64        44\n",
      "\n",
      "    accuracy                           0.66       147\n",
      "   macro avg       0.66      0.66      0.66       147\n",
      "weighted avg       0.66      0.66      0.66       147\n",
      "\n"
     ]
    }
   ],
   "source": [
    "\n",
    "from sklearn.neural_network import MLPClassifier\n",
    "from sklearn.metrics import accuracy_score, classification_report\n",
    "\n",
    "# # Define parameter grid for MLP (Added more layers & optimizers)\n",
    "# param_grid = {\n",
    "#     'hidden_layer_sizes': [(50,), (100,), (50, 50), (100, 100)],  # More architectures\n",
    "#     'activation': ['relu', 'tanh'],  # Activation functions\n",
    "#     'solver': ['adam', 'sgd'],  # Added SGD optimizer\n",
    "#     'alpha': [0.0001, 0.001],  # L2 regularization\n",
    "#     'learning_rate': ['constant', 'adaptive'],  # Learning rate strategy\n",
    "#     'batch_size': [32],  # Mini-batch training\n",
    "#     'max_iter': [500]  # Increased training iterations\n",
    "# }\n",
    "\n",
    "# # Perform Grid Search with Cross Validation\n",
    "# mlp = MLPClassifier(random_state=42)\n",
    "# grid_search = GridSearchCV(mlp, param_grid, cv=3, scoring='accuracy', n_jobs=-1, verbose=2)\n",
    "# grid_search.fit(X_train_tfidf, y_train)\n",
    "\n",
    "# # Best model\n",
    "# best_mlp = grid_search.best_estimator_\n",
    "# print(\"Best Parameters:\", grid_search.best_params_)\n",
    "\n",
    "# Train MLP Classifier\n",
    "best_mlp = MLPClassifier(activation='relu', alpha=0.001, batch_size=32,\n",
    "                         hidden_layer_sizes=(100, 100), learning_rate='constant',\n",
    "                         max_iter=500, solver='adam', random_state=42)\n",
    "best_mlp.fit(X_train_tfidf, y_train)\n",
    "\n",
    "# Predict and evaluate\n",
    "y_pred = best_mlp.predict(X_test_tfidf)\n",
    "print(f\"MLP Accuracy: {accuracy_score(y_test, y_pred):.4f}\")\n",
    "print(\"MLP Classification Report:\\n\", classification_report(y_test, y_pred))\n"
   ]
  },
  {
   "cell_type": "code",
   "execution_count": 95,
   "id": "a9c410f6",
   "metadata": {},
   "outputs": [
    {
     "data": {
      "image/png": "[encoded data removed]",
      "text/plain": [
       "<Figure size 600x500 with 2 Axes>"
      ]
     },
     "metadata": {},
     "output_type": "display_data"
    }
   ],
   "source": [
    "import matplotlib.pyplot as plt\n",
    "from sklearn.metrics import confusion_matrix, accuracy_score, classification_report\n",
    "import seaborn as sns\n",
    "\n",
    "# Generate confusion matrix\n",
    "cm = confusion_matrix(y_test, y_pred)\n",
    "\n",
    "# Plot confusion matrix\n",
    "plt.figure(figsize=(6, 5))\n",
    "sns.heatmap(cm, annot=True, fmt=\"d\", cmap=\"Blues\", xticklabels=['Negative', 'Neutral', 'Positive'], yticklabels=['Negative', 'Neutral', 'Positive'])\n",
    "plt.xlabel('Predicted Labels')\n",
    "plt.ylabel('True Labels')\n",
    "plt.title('Confusion Matrix for MLP Classifier')\n",
    "plt.show()"
   ]
  },
  {
   "cell_type": "markdown",
   "id": "b362a8ee",
   "metadata": {},
   "source": [
    "\n",
    "# Step 5: Evaluate the Model\n",
    "\n",
    "## Train Deep Neural Network (DNN)\n",
    "We train a DNN with multiple dense layers and dropout. The model is compiled using the Adam optimizer and evaluated with accuracy and classification report.\n"
   ]
  },
  {
   "cell_type": "code",
   "execution_count": 96,
   "id": "fa4b71a5",
   "metadata": {},
   "outputs": [
    {
     "name": "stdout",
     "output_type": "stream",
     "text": [
      "Epoch 1/10\n"
     ]
    },
    {
     "name": "stderr",
     "output_type": "stream",
     "text": [
      "C:\\Users\\HP\\AppData\\Roaming\\Python\\Python312\\site-packages\\keras\\src\\layers\\core\\dense.py:87: UserWarning: Do not pass an `input_shape`/`input_dim` argument to a layer. When using Sequential models, prefer using an `Input(shape)` object as the first layer in the model instead.\n",
      "  super().__init__(activity_regularizer=activity_regularizer, **kwargs)\n"
     ]
    },
    {
     "name": "stdout",
     "output_type": "stream",
     "text": [
      "\u001b[1m21/21\u001b[0m \u001b[32m━━━━━━━━━━━━━━━━━━━━\u001b[0m\u001b[37m\u001b[0m \u001b[1m2s\u001b[0m 21ms/step - accuracy: 0.3624 - loss: 1.0934 - val_accuracy: 0.0000e+00 - val_loss: 1.2492\n",
      "Epoch 2/10\n",
      "\u001b[1m21/21\u001b[0m \u001b[32m━━━━━━━━━━━━━━━━━━━━\u001b[0m\u001b[37m\u001b[0m \u001b[1m0s\u001b[0m 13ms/step - accuracy: 0.4690 - loss: 1.0514 - val_accuracy: 0.1944 - val_loss: 1.1499\n",
      "Epoch 3/10\n",
      "\u001b[1m21/21\u001b[0m \u001b[32m━━━━━━━━━━━━━━━━━━━━\u001b[0m\u001b[37m\u001b[0m \u001b[1m0s\u001b[0m 10ms/step - accuracy: 0.6874 - loss: 0.8501 - val_accuracy: 0.9722 - val_loss: 0.4987\n",
      "Epoch 4/10\n",
      "\u001b[1m21/21\u001b[0m \u001b[32m━━━━━━━━━━━━━━━━━━━━\u001b[0m\u001b[37m\u001b[0m \u001b[1m0s\u001b[0m 11ms/step - accuracy: 0.8820 - loss: 0.3865 - val_accuracy: 1.0000 - val_loss: 0.1462\n",
      "Epoch 5/10\n",
      "\u001b[1m21/21\u001b[0m \u001b[32m━━━━━━━━━━━━━━━━━━━━\u001b[0m\u001b[37m\u001b[0m \u001b[1m0s\u001b[0m 11ms/step - accuracy: 0.9602 - loss: 0.1294 - val_accuracy: 1.0000 - val_loss: 0.0440\n",
      "Epoch 6/10\n",
      "\u001b[1m21/21\u001b[0m \u001b[32m━━━━━━━━━━━━━━━━━━━━\u001b[0m\u001b[37m\u001b[0m \u001b[1m0s\u001b[0m 11ms/step - accuracy: 0.9806 - loss: 0.0619 - val_accuracy: 1.0000 - val_loss: 0.0254\n",
      "Epoch 7/10\n",
      "\u001b[1m21/21\u001b[0m \u001b[32m━━━━━━━━━━━━━━━━━━━━\u001b[0m\u001b[37m\u001b[0m \u001b[1m0s\u001b[0m 11ms/step - accuracy: 0.9699 - loss: 0.0711 - val_accuracy: 0.9722 - val_loss: 0.0558\n",
      "Epoch 8/10\n",
      "\u001b[1m21/21\u001b[0m \u001b[32m━━━━━━━━━━━━━━━━━━━━\u001b[0m\u001b[37m\u001b[0m \u001b[1m0s\u001b[0m 11ms/step - accuracy: 0.9795 - loss: 0.0887 - val_accuracy: 0.8750 - val_loss: 0.2923\n",
      "Epoch 9/10\n",
      "\u001b[1m21/21\u001b[0m \u001b[32m━━━━━━━━━━━━━━━━━━━━\u001b[0m\u001b[37m\u001b[0m \u001b[1m0s\u001b[0m 10ms/step - accuracy: 0.9815 - loss: 0.0579 - val_accuracy: 0.9583 - val_loss: 0.0943\n",
      "Epoch 10/10\n",
      "\u001b[1m21/21\u001b[0m \u001b[32m━━━━━━━━━━━━━━━━━━━━\u001b[0m\u001b[37m\u001b[0m \u001b[1m0s\u001b[0m 13ms/step - accuracy: 0.9913 - loss: 0.0529 - val_accuracy: 0.9861 - val_loss: 0.0440\n",
      "\u001b[1m5/5\u001b[0m \u001b[32m━━━━━━━━━━━━━━━━━━━━\u001b[0m\u001b[37m\u001b[0m \u001b[1m0s\u001b[0m 18ms/step\n",
      "DNN Accuracy: 0.6802721088435374\n",
      "DNN Classification Report:\n",
      "               precision    recall  f1-score   support\n",
      "\n",
      "           0       0.60      0.74      0.67        43\n",
      "           1       0.73      0.62      0.67        60\n",
      "           2       0.72      0.70      0.71        44\n",
      "\n",
      "    accuracy                           0.68       147\n",
      "   macro avg       0.68      0.69      0.68       147\n",
      "weighted avg       0.69      0.68      0.68       147\n",
      "\n"
     ]
    }
   ],
   "source": [
    "import tensorflow as tf\n",
    "import numpy as np\n",
    "import random\n",
    "from tensorflow.keras.models import Sequential\n",
    "from tensorflow.keras.layers import Dense, Dropout\n",
    "from tensorflow.keras.optimizers import Adam\n",
    "from tensorflow.keras.utils import to_categorical\n",
    "from sklearn.metrics import accuracy_score, classification_report\n",
    "\n",
    "\n",
    "SEED = 42\n",
    "tf.random.set_seed(SEED)\n",
    "np.random.seed(SEED)\n",
    "random.seed(SEED)\n",
    "\n",
    "# Prepare labels\n",
    "y_train_dnn = to_categorical(y_train, num_classes=3)\n",
    "y_test_dnn = to_categorical(y_test, num_classes=3)\n",
    "\n",
    "# Build DNN\n",
    "model = Sequential([\n",
    "    Dense(512, activation='relu', input_shape=(X_train_tfidf.shape[1],)),\n",
    "    Dropout(0.3),\n",
    "    Dense(256, activation='relu'),\n",
    "    Dropout(0.3),\n",
    "    Dense(128, activation='relu'),\n",
    "    Dropout(0.3),\n",
    "    Dense(64, activation='relu'),\n",
    "    Dense(3, activation='softmax')\n",
    "])\n",
    "model.compile(optimizer=Adam(learning_rate=0.001), loss='categorical_crossentropy', metrics=['accuracy'])\n",
    "\n",
    "# Train DNN\n",
    "model.fit(X_train_tfidf.toarray(), y_train_dnn, epochs=10, batch_size=32, validation_split=0.1)\n",
    "\n",
    "# Evaluate DNN\n",
    "y_pred_dnn = np.argmax(model.predict(X_test_tfidf.toarray()), axis=1)\n",
    "print(\"DNN Accuracy:\", accuracy_score(y_test, y_pred_dnn))\n",
    "print(\"DNN Classification Report:\\n\", classification_report(y_test, y_pred_dnn))\n"
   ]
  }
 ],
 "metadata": {
  "kernelspec": {
   "display_name": "Python 3",
   "language": "python",
   "name": "python3"
  },
  "language_info": {
   "codemirror_mode": {
    "name": "ipython",
    "version": 3
   },
   "file_extension": ".py",
   "mimetype": "text/x-python",
   "name": "python",
   "nbconvert_exporter": "python",
   "pygments_lexer": "ipython3",
   "version": "3.12.5"
  }
 },
 "nbformat": 4,
 "nbformat_minor": 5
}
