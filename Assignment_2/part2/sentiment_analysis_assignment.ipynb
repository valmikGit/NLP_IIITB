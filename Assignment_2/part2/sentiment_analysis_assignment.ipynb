{
 "cells": [
  {
   "cell_type": "markdown",
   "id": "1021f1df",
   "metadata": {},
   "source": [
    "\n",
    "# Step 1: Understand the Dataset\n",
    "\n",
    "## 1. Load the Dataset\n",
    "We load the sentiment analysis dataset using pandas. The dataset contains two columns: **Text** and **Sentiment**. Each row represents a sentence (or review) and its corresponding sentiment label.\n"
   ]
  },
  {
   "cell_type": "code",
   "execution_count": 2,
   "id": "9034862c",
   "metadata": {},
   "outputs": [
    {
     "name": "stdout",
     "output_type": "stream",
     "text": [
      "Unique sentiment values before categorization: ['Positive' 'Negative' 'Neutral' 'Anger' 'Fear' 'Sadness' 'Disgust'\n",
      " 'Happiness' 'Joy' 'Love' 'Amusement' 'Enjoyment' 'Admiration' 'Affection'\n",
      " 'Awe' 'Disappointed' 'Surprise' 'Acceptance' 'Adoration' 'Anticipation'\n",
      " 'Bitter' 'Calmness' 'Confusion' 'Excitement' 'Kind' 'Pride' 'Shame'\n",
      " 'Elation' 'Euphoria' 'Contentment' 'Serenity' 'Gratitude' 'Hope'\n",
      " 'Empowerment' 'Compassion' 'Tenderness' 'Arousal' 'Enthusiasm'\n",
      " 'Fulfillment' 'Reverence' 'Despair' 'Grief' 'Loneliness' 'Jealousy'\n",
      " 'Resentment' 'Frustration' 'Boredom' 'Anxiety' 'Intimidation'\n",
      " 'Helplessness' 'Envy' 'Regret' 'Curiosity' 'Indifference' 'Numbness'\n",
      " 'Melancholy' 'Nostalgia' 'Ambivalence' 'Determination' 'Zest' 'Hopeful'\n",
      " 'Proud' 'Grateful' 'Empathetic' 'Compassionate' 'Playful' 'Free-spirited'\n",
      " 'Inspired' 'Confident' 'Bitterness' 'Yearning' 'Fearful' 'Apprehensive'\n",
      " 'Overwhelmed' 'Jealous' 'Devastated' 'Frustrated' 'Envious' 'Dismissive'\n",
      " 'Thrill' 'Bittersweet' 'Overjoyed' 'Inspiration' 'Motivation'\n",
      " 'Contemplation' 'JoyfulReunion' 'Satisfaction' 'Blessed' 'Reflection'\n",
      " 'Appreciation' 'Confidence' 'Accomplishment' 'Wonderment' 'Optimism'\n",
      " 'Enchantment' 'Intrigue' 'PlayfulJoy' 'Mindfulness' 'DreamChaser'\n",
      " 'Elegance' 'Whimsy' 'Pensive' 'Harmony' 'Creativity' 'Radiance' 'Wonder'\n",
      " 'Rejuvenation' 'Coziness' 'Adventure' 'Melodic' 'FestiveJoy'\n",
      " 'InnerJourney' 'Freedom' 'Dazzle' 'Adrenaline' 'ArtisticBurst'\n",
      " 'CulinaryOdyssey' 'Resilience' 'Immersion' 'Spark' 'Marvel' 'Heartbreak'\n",
      " 'Betrayal' 'Suffering' 'EmotionalStorm' 'Isolation' 'Disappointment'\n",
      " 'LostLove' 'Exhaustion' 'Sorrow' 'Darkness' 'Desperation' 'Ruins'\n",
      " 'Desolation' 'Loss' 'Heartache' 'Solitude' 'Positivity' 'Kindness'\n",
      " 'Friendship' 'Success' 'Exploration' 'Amazement' 'Romance' 'Captivation'\n",
      " 'Tranquility' 'Grandeur' 'Emotion' 'Energy' 'Celebration' 'Charm'\n",
      " 'Ecstasy' 'Colorful' 'Hypnotic' 'Connection' 'Iconic' 'Journey'\n",
      " 'Engagement' 'Touched' 'Suspense' 'Triumph' 'Heartwarming' 'Obstacle'\n",
      " 'Sympathy' 'Pressure' 'Renewed Effort' 'Miscalculation' 'Challenge'\n",
      " 'Solace' 'Breakthrough' 'Joy in Baking' 'Envisioning History'\n",
      " 'Imagination' 'Vibrancy' 'Mesmerizing' 'Culinary Adventure'\n",
      " 'Winter Magic' 'Thrilling Journey' \"Nature's Beauty\" 'Celestial Wonder'\n",
      " 'Creative Inspiration' 'Runway Creativity' \"Ocean's Freedom\"\n",
      " 'Whispers of the Past' 'Relief' 'Embarrassed' 'Mischievous' 'Sad' 'Hate'\n",
      " 'Bad' 'Happy']\n"
     ]
    }
   ],
   "source": [
    "\n",
    "import pandas as pd\n",
    "\n",
    "# Load dataset\n",
    "df = pd.read_csv(\"sentimentdataset.csv\")\n",
    "df = df[[\"Text\", \"Sentiment\"]].dropna()\n",
    "df[\"Sentiment\"] = df[\"Sentiment\"].str.strip()\n",
    "\n",
    "# Check unique sentiment classes before categorization\n",
    "print(\"Unique sentiment values before categorization:\", df[\"Sentiment\"].unique())\n"
   ]
  },
  {
   "cell_type": "markdown",
   "id": "6559b469",
   "metadata": {},
   "source": [
    "\n",
    "# Step 2: Preprocessing\n",
    "\n",
    "## 1. Text Cleaning and Normalization\n",
    "We preprocess the text data by converting it to lowercase, removing punctuation and stopwords, and applying stemming and lemmatization.\n"
   ]
  },
  {
   "cell_type": "code",
   "execution_count": 3,
   "id": "7dd2f528",
   "metadata": {},
   "outputs": [
    {
     "name": "stderr",
     "output_type": "stream",
     "text": [
      "[nltk_data] Downloading package stopwords to C:\\Users\\Valmik\n",
      "[nltk_data]     Belgaonkar\\AppData\\Roaming\\nltk_data...\n",
      "[nltk_data]   Package stopwords is already up-to-date!\n",
      "[nltk_data] Downloading package wordnet to C:\\Users\\Valmik\n",
      "[nltk_data]     Belgaonkar\\AppData\\Roaming\\nltk_data...\n",
      "[nltk_data]   Package wordnet is already up-to-date!\n"
     ]
    }
   ],
   "source": [
    "import re\n",
    "import nltk\n",
    "from nltk.corpus import stopwords\n",
    "from nltk.stem import WordNetLemmatizer, PorterStemmer\n",
    "\n",
    "# Download necessary NLTK resources\n",
    "nltk.download('stopwords')\n",
    "nltk.download('wordnet')\n",
    "stop_words = set(stopwords.words('english'))\n",
    "lemmatizer = WordNetLemmatizer()\n",
    "stemmer = PorterStemmer()\n",
    "\n",
    "# Text Preprocessing Function\n",
    "def preprocess_text(text):\n",
    "    if pd.isna(text):\n",
    "        return \"\"\n",
    "    text = text.lower()\n",
    "    text = re.sub(r'[^a-zA-Z\\s]', '', text)\n",
    "    words = text.split()\n",
    "    words = [lemmatizer.lemmatize(stemmer.stem(word)) for word in words if word not in stop_words]\n",
    "    return ' '.join(words).strip()\n",
    "\n",
    "# Apply preprocessing\n",
    "df[\"ProcessedText\"] = df[\"Text\"].apply(preprocess_text)"
   ]
  },
  {
   "cell_type": "markdown",
   "id": "6acec139",
   "metadata": {},
   "source": [
    "\n",
    "## 2. Sentiment Categorization with spaCy Embeddings\n",
    "We use spaCy's pre-trained word embeddings to map raw sentiment labels into one of three standardized sentiment categories: **Positive**, **Negative**, and **Neutral**.\n"
   ]
  },
  {
   "cell_type": "code",
   "execution_count": 4,
   "id": "1a5f3bc4",
   "metadata": {},
   "outputs": [
    {
     "name": "stdout",
     "output_type": "stream",
     "text": [
      "Unique sentiment values after categorization: ['Neutral' 'Positive' 'Negative']\n"
     ]
    }
   ],
   "source": [
    "\n",
    "import spacy\n",
    "import numpy as np\n",
    "from sklearn.metrics.pairwise import cosine_similarity\n",
    "\n",
    "# Load spaCy model\n",
    "nlp = spacy.load(\"en_core_web_md\")\n",
    "\n",
    "# Reference words for sentiment categories\n",
    "ref_words = {\n",
    "    \"Positive\": [\"happy\", \"great\", \"good\", \"excellent\", \"amazing\", \"positive\"],\n",
    "    \"Negative\": [\"sad\", \"bad\", \"terrible\", \"horrible\", \"negative\", \"awful\"],\n",
    "    \"Neutral\": [\"okay\", \"neutral\", \"average\", \"moderate\", \"indifferent\"]\n",
    "}\n",
    "\n",
    "# Compute average vector for each category\n",
    "def compute_average_vector(words):\n",
    "    vectors = [nlp(word).vector for word in words if nlp(word).has_vector]\n",
    "    return np.mean(vectors, axis=0) if vectors else np.zeros((nlp(\"positive\").vector.shape[0],))\n",
    "\n",
    "ref_vectors = {category: compute_average_vector(words) for category, words in ref_words.items()}\n",
    "\n",
    "# Normalize reference vectors\n",
    "for category in ref_vectors:\n",
    "    ref_vectors[category] /= np.linalg.norm(ref_vectors[category])\n",
    "\n",
    "# Assign sentiment based on cosine similarity\n",
    "def assign_sentiment_category(sentiment):\n",
    "    doc = nlp(sentiment)\n",
    "    if not doc.has_vector:\n",
    "        return \"Neutral\"\n",
    "    word_vector = doc.vector / np.linalg.norm(doc.vector)\n",
    "    similarities = {category: cosine_similarity([word_vector], [ref_vec])[0][0] for category, ref_vec in ref_vectors.items()}\n",
    "    return max(similarities, key=similarities.get)\n",
    "\n",
    "# Apply sentiment classification\n",
    "df[\"Sentiment\"] = df[\"Sentiment\"].apply(assign_sentiment_category)\n",
    "print(\"Unique sentiment values after categorization:\", df[\"Sentiment\"].unique())\n"
   ]
  },
  {
   "cell_type": "markdown",
   "id": "1ff41394",
   "metadata": {},
   "source": [
    "\n",
    "# Step 3: Define Neural Network Architecture\n",
    "\n",
    "## Label Encoding and Vectorization\n",
    "We encode sentiment labels and convert the processed text into TF-IDF features.\n"
   ]
  },
  {
   "cell_type": "code",
   "execution_count": 5,
   "id": "6f663fd3",
   "metadata": {},
   "outputs": [],
   "source": [
    "\n",
    "from sklearn.preprocessing import LabelEncoder\n",
    "from sklearn.model_selection import train_test_split\n",
    "from sklearn.feature_extraction.text import TfidfVectorizer\n",
    "\n",
    "# Encode labels\n",
    "label_encoder = LabelEncoder()\n",
    "df[\"SentimentEncoded\"] = label_encoder.fit_transform(df[\"Sentiment\"])\n",
    "\n",
    "# Split dataset\n",
    "X = df[\"ProcessedText\"]\n",
    "y = df[\"SentimentEncoded\"]\n",
    "X_train, X_test, y_train, y_test = train_test_split(X, y, test_size=0.2, random_state=42, stratify=y)\n",
    "\n",
    "# TF-IDF Vectorization\n",
    "vectorizer = TfidfVectorizer(ngram_range=(1, 3), max_features=30000, min_df=3, stop_words=\"english\", sublinear_tf=True)\n",
    "X_train_tfidf = vectorizer.fit_transform(X_train)\n",
    "X_test_tfidf = vectorizer.transform(X_test)\n"
   ]
  },
  {
   "cell_type": "markdown",
   "id": "fc17ec35",
   "metadata": {},
   "source": [
    "\n",
    "## Choice of Architecture\n",
    "We use **MLPClassifier** with two hidden layers (100 neurons each) and ReLU activation. The choice of this architecture balances complexity and generalization, with dropout for regularization in DNN. Loss function is **categorical cross-entropy**, suitable for multi-class classification.\n"
   ]
  },
  {
   "cell_type": "markdown",
   "id": "1357e168",
   "metadata": {},
   "source": [
    "\n",
    "# Step 4: Train and Validate the Model\n",
    "\n",
    "## Handle Class Imbalance with SMOTE\n",
    "We apply SMOTE (Synthetic Minority Oversampling Technique) to balance classes in training data.\n"
   ]
  },
  {
   "cell_type": "code",
   "execution_count": 6,
   "id": "f471c4cb",
   "metadata": {},
   "outputs": [],
   "source": [
    "\n",
    "from imblearn.over_sampling import SMOTE\n",
    "\n",
    "# Apply SMOTE\n",
    "from collections import Counter\n",
    "min_class_size = Counter(y_train).most_common()[-1][1]\n",
    "k_neighbors = min(5, min_class_size - 1) if min_class_size > 1 else 1\n",
    "smote = SMOTE(random_state=42, k_neighbors=k_neighbors)\n",
    "X_train_tfidf, y_train = smote.fit_resample(X_train_tfidf, y_train)\n"
   ]
  },
  {
   "cell_type": "markdown",
   "id": "28f071db",
   "metadata": {},
   "source": [
    "\n",
    "## Train MLP Classifier\n",
    "We use the Adam optimizer with a constant learning rate. The model is trained for 500 iterations. We experimented using Grid Search CV to find the best parameters for the MLP classifier. We also tried training the MLP without categorizing all the sentiments into 'Positive', 'Negative' and 'Neutral'. With 191 unique sentiment labels, the dataset is highly fragmented, making it difficult for models to learn meaningful patterns. Reducing it to three broad categories ensures better generalization and reduces overfitting.\n"
   ]
  },
  {
   "cell_type": "code",
   "execution_count": 7,
   "id": "48499ddf",
   "metadata": {},
   "outputs": [
    {
     "name": "stdout",
     "output_type": "stream",
     "text": [
      "MLP Accuracy: 0.6599\n",
      "MLP Classification Report:\n",
      "               precision    recall  f1-score   support\n",
      "\n",
      "           0       0.70      0.65      0.67        43\n",
      "           1       0.67      0.67      0.67        60\n",
      "           2       0.62      0.66      0.64        44\n",
      "\n",
      "    accuracy                           0.66       147\n",
      "   macro avg       0.66      0.66      0.66       147\n",
      "weighted avg       0.66      0.66      0.66       147\n",
      "\n"
     ]
    }
   ],
   "source": [
    "\n",
    "from sklearn.neural_network import MLPClassifier\n",
    "from sklearn.metrics import accuracy_score, classification_report\n",
    "\n",
    "# # Define parameter grid for MLP (Added more layers & optimizers)\n",
    "# param_grid = {\n",
    "#     'hidden_layer_sizes': [(50,), (100,), (50, 50), (100, 100)],  # More architectures\n",
    "#     'activation': ['relu', 'tanh'],  # Activation functions\n",
    "#     'solver': ['adam', 'sgd'],  # Added SGD optimizer\n",
    "#     'alpha': [0.0001, 0.001],  # L2 regularization\n",
    "#     'learning_rate': ['constant', 'adaptive'],  # Learning rate strategy\n",
    "#     'batch_size': [32],  # Mini-batch training\n",
    "#     'max_iter': [500]  # Increased training iterations\n",
    "# }\n",
    "\n",
    "# # Perform Grid Search with Cross Validation\n",
    "# mlp = MLPClassifier(random_state=42)\n",
    "# grid_search = GridSearchCV(mlp, param_grid, cv=3, scoring='accuracy', n_jobs=-1, verbose=2)\n",
    "# grid_search.fit(X_train_tfidf, y_train)\n",
    "\n",
    "# # Best model\n",
    "# best_mlp = grid_search.best_estimator_\n",
    "# print(\"Best Parameters:\", grid_search.best_params_)\n",
    "\n",
    "# Train MLP Classifier\n",
    "best_mlp = MLPClassifier(activation='relu', alpha=0.001, batch_size=32,\n",
    "                         hidden_layer_sizes=(100, 100), learning_rate='constant',\n",
    "                         max_iter=500, solver='adam', random_state=42)\n",
    "best_mlp.fit(X_train_tfidf, y_train)\n",
    "\n",
    "# Predict and evaluate\n",
    "y_pred = best_mlp.predict(X_test_tfidf)\n",
    "print(f\"MLP Accuracy: {accuracy_score(y_test, y_pred):.4f}\")\n",
    "print(\"MLP Classification Report:\\n\", classification_report(y_test, y_pred))\n"
   ]
  },
  {
   "cell_type": "code",
   "execution_count": 8,
   "id": "a9c410f6",
   "metadata": {},
   "outputs": [
    {
     "data": {
      "image/png": "[encoded data removed]",
      "text/plain": [
       "<Figure size 600x500 with 2 Axes>"
      ]
     },
     "metadata": {},
     "output_type": "display_data"
    }
   ],
   "source": [
    "import matplotlib.pyplot as plt\n",
    "from sklearn.metrics import confusion_matrix, accuracy_score, classification_report\n",
    "import seaborn as sns\n",
    "\n",
    "# Generate confusion matrix\n",
    "cm = confusion_matrix(y_test, y_pred)\n",
    "\n",
    "# Plot confusion matrix\n",
    "plt.figure(figsize=(6, 5))\n",
    "sns.heatmap(cm, annot=True, fmt=\"d\", cmap=\"Blues\", xticklabels=['Negative', 'Neutral', 'Positive'], yticklabels=['Negative', 'Neutral', 'Positive'])\n",
    "plt.xlabel('Predicted Labels')\n",
    "plt.ylabel('True Labels')\n",
    "plt.title('Confusion Matrix for MLP Classifier')\n",
    "plt.show()"
   ]
  },
  {
   "cell_type": "markdown",
   "id": "b362a8ee",
   "metadata": {},
   "source": [
    "\n",
    "# Step 5: Evaluate the Model\n",
    "\n",
    "## Train Deep Neural Network (DNN)\n",
    "We train a DNN with multiple dense layers and dropout. The model is compiled using the Adam optimizer and evaluated with accuracy and classification report.\n"
   ]
  },
  {
   "cell_type": "code",
   "execution_count": 9,
   "id": "fa4b71a5",
   "metadata": {},
   "outputs": [
    {
     "name": "stdout",
     "output_type": "stream",
     "text": [
      "Epoch 1/10\n"
     ]
    },
    {
     "name": "stderr",
     "output_type": "stream",
     "text": [
      "c:\\Users\\Valmik Belgaonkar\\OneDrive\\Desktop\\IIITB Folder\\6th Semester\\Natural Language Processing\\NLP_IIITB\\nlpenv\\Lib\\site-packages\\keras\\src\\layers\\core\\dense.py:87: UserWarning: Do not pass an `input_shape`/`input_dim` argument to a layer. When using Sequential models, prefer using an `Input(shape)` object as the first layer in the model instead.\n",
      "  super().__init__(activity_regularizer=activity_regularizer, **kwargs)\n"
     ]
    },
    {
     "name": "stdout",
     "output_type": "stream",
     "text": [
      "\u001b[1m21/21\u001b[0m \u001b[32m━━━━━━━━━━━━━━━━━━━━\u001b[0m\u001b[37m\u001b[0m \u001b[1m2s\u001b[0m 15ms/step - accuracy: 0.3445 - loss: 1.1004 - val_accuracy: 0.0556 - val_loss: 1.2012\n",
      "Epoch 2/10\n",
      "\u001b[1m21/21\u001b[0m \u001b[32m━━━━━━━━━━━━━━━━━━━━\u001b[0m\u001b[37m\u001b[0m \u001b[1m0s\u001b[0m 7ms/step - accuracy: 0.4617 - loss: 1.0682 - val_accuracy: 0.0972 - val_loss: 1.2484\n",
      "Epoch 3/10\n",
      "\u001b[1m21/21\u001b[0m \u001b[32m━━━━━━━━━━━━━━━━━━━━\u001b[0m\u001b[37m\u001b[0m \u001b[1m0s\u001b[0m 8ms/step - accuracy: 0.5574 - loss: 0.9194 - val_accuracy: 0.1667 - val_loss: 1.0446\n",
      "Epoch 4/10\n",
      "\u001b[1m21/21\u001b[0m \u001b[32m━━━━━━━━━━━━━━━━━━━━\u001b[0m\u001b[37m\u001b[0m \u001b[1m0s\u001b[0m 7ms/step - accuracy: 0.7813 - loss: 0.5389 - val_accuracy: 0.8611 - val_loss: 0.4598\n",
      "Epoch 5/10\n",
      "\u001b[1m21/21\u001b[0m \u001b[32m━━━━━━━━━━━━━━━━━━━━\u001b[0m\u001b[37m\u001b[0m \u001b[1m0s\u001b[0m 7ms/step - accuracy: 0.9275 - loss: 0.2158 - val_accuracy: 0.9861 - val_loss: 0.0869\n",
      "Epoch 6/10\n",
      "\u001b[1m21/21\u001b[0m \u001b[32m━━━━━━━━━━━━━━━━━━━━\u001b[0m\u001b[37m\u001b[0m \u001b[1m0s\u001b[0m 7ms/step - accuracy: 0.9711 - loss: 0.0992 - val_accuracy: 0.9861 - val_loss: 0.0861\n",
      "Epoch 7/10\n",
      "\u001b[1m21/21\u001b[0m \u001b[32m━━━━━━━━━━━━━━━━━━━━\u001b[0m\u001b[37m\u001b[0m \u001b[1m0s\u001b[0m 6ms/step - accuracy: 0.9840 - loss: 0.0552 - val_accuracy: 0.9306 - val_loss: 0.1560\n",
      "Epoch 8/10\n",
      "\u001b[1m21/21\u001b[0m \u001b[32m━━━━━━━━━━━━━━━━━━━━\u001b[0m\u001b[37m\u001b[0m \u001b[1m0s\u001b[0m 8ms/step - accuracy: 0.9810 - loss: 0.0422 - val_accuracy: 0.9861 - val_loss: 0.0623\n",
      "Epoch 9/10\n",
      "\u001b[1m21/21\u001b[0m \u001b[32m━━━━━━━━━━━━━━━━━━━━\u001b[0m\u001b[37m\u001b[0m \u001b[1m0s\u001b[0m 7ms/step - accuracy: 0.9838 - loss: 0.0501 - val_accuracy: 1.0000 - val_loss: 0.0295\n",
      "Epoch 10/10\n",
      "\u001b[1m21/21\u001b[0m \u001b[32m━━━━━━━━━━━━━━━━━━━━\u001b[0m\u001b[37m\u001b[0m \u001b[1m0s\u001b[0m 7ms/step - accuracy: 0.9955 - loss: 0.0145 - val_accuracy: 0.9583 - val_loss: 0.0810\n",
      "\u001b[1m5/5\u001b[0m \u001b[32m━━━━━━━━━━━━━━━━━━━━\u001b[0m\u001b[37m\u001b[0m \u001b[1m0s\u001b[0m 12ms/step\n",
      "DNN Accuracy: 0.6394557823129252\n",
      "DNN Classification Report:\n",
      "               precision    recall  f1-score   support\n",
      "\n",
      "           0       0.67      0.60      0.63        43\n",
      "           1       0.61      0.72      0.66        60\n",
      "           2       0.66      0.57      0.61        44\n",
      "\n",
      "    accuracy                           0.64       147\n",
      "   macro avg       0.65      0.63      0.64       147\n",
      "weighted avg       0.64      0.64      0.64       147\n",
      "\n"
     ]
    }
   ],
   "source": [
    "\n",
    "import tensorflow as tf\n",
    "from tensorflow.keras.models import Sequential\n",
    "from tensorflow.keras.layers import Dense, Dropout\n",
    "from tensorflow.keras.optimizers import Adam\n",
    "from tensorflow.keras.utils import to_categorical\n",
    "import numpy as np\n",
    "\n",
    "# Prepare labels\n",
    "y_train_dnn = to_categorical(y_train, num_classes=3)\n",
    "y_test_dnn = to_categorical(y_test, num_classes=3)\n",
    "\n",
    "# Build DNN\n",
    "model = Sequential([\n",
    "    Dense(512, activation='relu', input_shape=(X_train_tfidf.shape[1],)),\n",
    "    Dropout(0.3),\n",
    "    Dense(256, activation='relu'),\n",
    "    Dropout(0.3),\n",
    "    Dense(128, activation='relu'),\n",
    "    Dropout(0.3),\n",
    "    Dense(64, activation='relu'),\n",
    "    Dense(3, activation='softmax')\n",
    "])\n",
    "model.compile(optimizer=Adam(learning_rate=0.001), loss='categorical_crossentropy', metrics=['accuracy'])\n",
    "\n",
    "# Train DNN\n",
    "model.fit(X_train_tfidf.toarray(), y_train_dnn, epochs=10, batch_size=32, validation_split=0.1)\n",
    "\n",
    "# Evaluate DNN\n",
    "y_pred_dnn = np.argmax(model.predict(X_test_tfidf.toarray()), axis=1)\n",
    "print(\"DNN Accuracy:\", accuracy_score(y_test, y_pred_dnn))\n",
    "print(\"DNN Classification Report:\\n\", classification_report(y_test, y_pred_dnn))\n"
   ]
  },
  {
   "cell_type": "code",
   "execution_count": null,
   "id": "8c59ba35",
   "metadata": {},
   "outputs": [],
   "source": []
  }
 ],
 "metadata": {
  "kernelspec": {
   "display_name": "nlpenv",
   "language": "python",
   "name": "python3"
  },
  "language_info": {
   "codemirror_mode": {
    "name": "ipython",
    "version": 3
   },
   "file_extension": ".py",
   "mimetype": "text/x-python",
   "name": "python",
   "nbconvert_exporter": "python",
   "pygments_lexer": "ipython3",
   "version": "3.12.4"
  }
 },
 "nbformat": 4,
 "nbformat_minor": 5
}
