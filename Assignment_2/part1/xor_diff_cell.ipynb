{
 "cells": [
  {
   "cell_type": "code",
   "execution_count": 1,
   "metadata": {
    "execution": {
     "iopub.execute_input": "2025-03-16T06:35:14.098456Z",
     "iopub.status.busy": "2025-03-16T06:35:14.097995Z",
     "iopub.status.idle": "2025-03-16T06:35:14.124813Z",
     "shell.execute_reply": "2025-03-16T06:35:14.123354Z",
     "shell.execute_reply.started": "2025-03-16T06:35:14.098419Z"
    },
    "trusted": true
   },
   "outputs": [],
   "source": [
    "import random\n",
    "import math\n",
    "import csv\n",
    "import numpy as np\n"
   ]
  },
  {
   "cell_type": "code",
   "execution_count": 2,
   "metadata": {
    "execution": {
     "iopub.execute_input": "2025-03-16T06:35:14.127979Z",
     "iopub.status.busy": "2025-03-16T06:35:14.127450Z",
     "iopub.status.idle": "2025-03-16T06:35:14.145847Z",
     "shell.execute_reply": "2025-03-16T06:35:14.144672Z",
     "shell.execute_reply.started": "2025-03-16T06:35:14.127918Z"
    },
    "trusted": true
   },
   "outputs": [],
   "source": [
    "RANDOM_SEED = 42\n",
    "random.seed(RANDOM_SEED)"
   ]
  },
  {
   "cell_type": "code",
   "execution_count": 3,
   "metadata": {
    "execution": {
     "iopub.execute_input": "2025-03-16T06:35:14.147909Z",
     "iopub.status.busy": "2025-03-16T06:35:14.147339Z",
     "iopub.status.idle": "2025-03-16T06:35:14.169194Z",
     "shell.execute_reply": "2025-03-16T06:35:14.167734Z",
     "shell.execute_reply.started": "2025-03-16T06:35:14.147870Z"
    },
    "trusted": true
   },
   "outputs": [],
   "source": [
    "def sigmoid(x):\n",
    "    return 1 / (1 + math.exp(-x))\n",
    "\n",
    "def sigmoid_derivative(x):\n",
    "    return x * (1 - x)"
   ]
  },
  {
   "cell_type": "code",
   "execution_count": 4,
   "metadata": {
    "execution": {
     "iopub.execute_input": "2025-03-16T06:35:14.529334Z",
     "iopub.status.busy": "2025-03-16T06:35:14.528910Z",
     "iopub.status.idle": "2025-03-16T06:35:14.543732Z",
     "shell.execute_reply": "2025-03-16T06:35:14.542272Z",
     "shell.execute_reply.started": "2025-03-16T06:35:14.529303Z"
    },
    "trusted": true
   },
   "outputs": [],
   "source": [
    "class MLP:\n",
    "    def __init__(self, input_nodes, hidden_nodes, output_nodes):\n",
    "        self.input_nodes = input_nodes\n",
    "        self.hidden_nodes = hidden_nodes\n",
    "        self.output_nodes = output_nodes\n",
    "        \n",
    "      \n",
    "        limit_ih = 1 / math.sqrt(input_nodes)\n",
    "        limit_ho = 1 / math.sqrt(hidden_nodes)\n",
    "        \n",
    "        self.weights_input_hidden = [[random.uniform(-limit_ih, limit_ih) for _ in range(hidden_nodes)] for _ in range(input_nodes)]\n",
    "        self.weights_hidden_output = [random.uniform(-limit_ho, limit_ho) for _ in range(hidden_nodes)]\n",
    "        self.bias_hidden = [random.uniform(-limit_ih, limit_ih) for _ in range(hidden_nodes)]\n",
    "        self.bias_output = random.uniform(-limit_ho, limit_ho)\n",
    "        self.training_loss=[]\n",
    "        \n",
    "    def forward(self, inputs):\n",
    "   \n",
    "        self.hidden_layer = []\n",
    "        for i in range(self.hidden_nodes):\n",
    "            weighted_sum = sum(inputs[j] * self.weights_input_hidden[j][i] for j in range(self.input_nodes)) + self.bias_hidden[i]\n",
    "            self.hidden_layer.append(sigmoid(weighted_sum))\n",
    "        output_weighted_sum = sum(self.hidden_layer[i] * self.weights_hidden_output[i] for i in range(self.hidden_nodes)) + self.bias_output\n",
    "        self.output = sigmoid(output_weighted_sum)\n",
    "        return self.output\n",
    "    \n",
    "    def backward(self, inputs, expected_output, learning_rate):\n",
    "        output_error = expected_output - self.output\n",
    "        output_delta = output_error * sigmoid_derivative(self.output)\n",
    "        hidden_errors = [self.weights_hidden_output[i] * output_delta for i in range(self.hidden_nodes)]\n",
    "        hidden_deltas = [hidden_errors[i] * sigmoid_derivative(self.hidden_layer[i]) for i in range(self.hidden_nodes)]\n",
    "        for i in range(self.hidden_nodes):\n",
    "            self.weights_hidden_output[i] += learning_rate * output_delta * self.hidden_layer[i]\n",
    "        self.bias_output += learning_rate * output_delta\n",
    "        for i in range(self.input_nodes):\n",
    "            for j in range(self.hidden_nodes):\n",
    "                self.weights_input_hidden[i][j] += learning_rate * hidden_deltas[j] * inputs[i]\n",
    "        for i in range(self.hidden_nodes):\n",
    "            self.bias_hidden[i] += learning_rate * hidden_deltas[i]\n",
    "    \n",
    "    def train(self, dataset, epochs, learning_rate, batch_size=2):\n",
    "        for epoch in range(epochs):\n",
    "            total_error = 0\n",
    "            random.shuffle(dataset)  \n",
    "            for i in range(0, len(dataset), batch_size):\n",
    "                batch = dataset[i:i + batch_size]\n",
    "                batch_error = 0\n",
    "                \n",
    "                for data in batch:\n",
    "                    inputs = [data[0], data[1]]\n",
    "                    expected_output = data[2]\n",
    "                    self.forward(inputs)\n",
    "                    self.backward(inputs, expected_output, learning_rate)\n",
    "                    batch_error += (expected_output - self.output) ** 2\n",
    "                \n",
    "                total_error += batch_error / batch_size\n",
    "            self.training_loss.append(total_error)\n",
    "            if epoch % 1000 == 0:\n",
    "                print(f\"Epoch {epoch}, Error: {total_error}\")\n",
    "    \n",
    "    def predict(self, inputs):\n",
    "        output = self.forward(inputs)\n",
    "        return 1 if output > 0.5 else 0"
   ]
  },
  {
   "cell_type": "code",
   "execution_count": 5,
   "metadata": {
    "execution": {
     "iopub.execute_input": "2025-03-16T06:35:14.545751Z",
     "iopub.status.busy": "2025-03-16T06:35:14.545297Z",
     "iopub.status.idle": "2025-03-16T06:35:14.571212Z",
     "shell.execute_reply": "2025-03-16T06:35:14.569752Z",
     "shell.execute_reply.started": "2025-03-16T06:35:14.545715Z"
    },
    "trusted": true
   },
   "outputs": [],
   "source": [
    "def load_dataset(filename):\n",
    "    dataset = []\n",
    "    with open(filename, 'r') as file:\n",
    "        reader = csv.reader(file)\n",
    "        next(reader)  # Skip header\n",
    "        for row in reader:\n",
    "            dataset.append([float(row[-3]), float(row[-2]), float(row[-1])])  # Ensure last three columns are used\n",
    "    return dataset"
   ]
  },
  {
   "cell_type": "code",
   "execution_count": 6,
   "metadata": {
    "execution": {
     "iopub.execute_input": "2025-03-16T06:35:14.574380Z",
     "iopub.status.busy": "2025-03-16T06:35:14.573913Z",
     "iopub.status.idle": "2025-03-16T06:35:14.592529Z",
     "shell.execute_reply": "2025-03-16T06:35:14.591149Z",
     "shell.execute_reply.started": "2025-03-16T06:35:14.574340Z"
    },
    "trusted": true
   },
   "outputs": [],
   "source": [
    "def split_dataset(dataset, train_ratio=0.8):\n",
    "    random.shuffle(dataset)\n",
    "    train_size = int(len(dataset) * train_ratio)\n",
    "    return dataset[:train_size], dataset[train_size:]\n"
   ]
  },
  {
   "cell_type": "code",
   "execution_count": 7,
   "metadata": {
    "execution": {
     "iopub.execute_input": "2025-03-16T06:35:14.594455Z",
     "iopub.status.busy": "2025-03-16T06:35:14.594023Z",
     "iopub.status.idle": "2025-03-16T06:35:14.617806Z",
     "shell.execute_reply": "2025-03-16T06:35:14.616157Z",
     "shell.execute_reply.started": "2025-03-16T06:35:14.594419Z"
    },
    "trusted": true
   },
   "outputs": [],
   "source": [
    "dataset = load_dataset(\"xor.csv\")\n",
    "train_data, validation_data = split_dataset(dataset)"
   ]
  },
  {
   "cell_type": "code",
   "execution_count": 8,
   "metadata": {
    "execution": {
     "iopub.execute_input": "2025-03-16T06:35:14.619333Z",
     "iopub.status.busy": "2025-03-16T06:35:14.618915Z",
     "iopub.status.idle": "2025-03-16T06:37:07.847644Z",
     "shell.execute_reply": "2025-03-16T06:37:07.846396Z",
     "shell.execute_reply.started": "2025-03-16T06:35:14.619280Z"
    },
    "trusted": true
   },
   "outputs": [
    {
     "name": "stdout",
     "output_type": "stream",
     "text": [
      "Epoch 0, Error: 101.06137475419966\n",
      "Epoch 1000, Error: 6.198250617718706\n",
      "Epoch 2000, Error: 4.843734951989048\n",
      "Epoch 3000, Error: 4.517119614784414\n",
      "Epoch 4000, Error: 3.909579464128246\n",
      "Epoch 5000, Error: 3.915270206931568\n",
      "Epoch 6000, Error: 3.8026696427546667\n",
      "Epoch 7000, Error: 3.802573735733928\n",
      "Epoch 8000, Error: 3.5277802551162587\n",
      "Epoch 9000, Error: 3.3330512382640594\n"
     ]
    }
   ],
   "source": [
    "mlp = MLP(input_nodes=2, hidden_nodes=4, output_nodes=1)\n",
    "mlp.train(train_data, epochs=10000, learning_rate=0.1, batch_size=2)\n"
   ]
  },
  {
   "cell_type": "code",
   "execution_count": 9,
   "metadata": {
    "execution": {
     "iopub.execute_input": "2025-03-16T06:37:07.849274Z",
     "iopub.status.busy": "2025-03-16T06:37:07.848871Z",
     "iopub.status.idle": "2025-03-16T06:37:07.884223Z",
     "shell.execute_reply": "2025-03-16T06:37:07.874052Z",
     "shell.execute_reply.started": "2025-03-16T06:37:07.849228Z"
    },
    "trusted": true
   },
   "outputs": [
    {
     "name": "stdout",
     "output_type": "stream",
     "text": [
      "\n",
      "Validation Results:\n",
      "Input: [0.909265459047228, 0.4494478147489037], Predicted Label: 1, Actual Label: 1\n",
      "Input: [0.21133199607316877, 0.5477760703275425], Predicted Label: 1, Actual Label: 1\n",
      "Input: [0.40672307570203925, 0.8602713389236996], Predicted Label: 1, Actual Label: 1\n",
      "Input: [0.007918874456447733, 0.4817555290143672], Predicted Label: 1, Actual Label: 0\n",
      "Input: [0.6517986038165704, 0.4371820046741696], Predicted Label: 1, Actual Label: 1\n",
      "Input: [0.19134235993999116, 0.27442640921133543], Predicted Label: 0, Actual Label: 0\n",
      "Input: [0.5760341888351073, 0.6871444296568735], Predicted Label: 0, Actual Label: 0\n",
      "Input: [0.7553466258037524, 0.21225570084138362], Predicted Label: 1, Actual Label: 1\n",
      "Input: [0.7147170950828853, 0.2717533735823953], Predicted Label: 1, Actual Label: 1\n",
      "Input: [0.642687239155542, 0.21091317831602036], Predicted Label: 1, Actual Label: 1\n",
      "Input: [0.22263449325114593, 0.8195404305375278], Predicted Label: 1, Actual Label: 1\n",
      "Input: [0.5221457583691931, 0.19698673527811256], Predicted Label: 1, Actual Label: 1\n",
      "Input: [0.9111438024736003, 0.2065446595900936], Predicted Label: 1, Actual Label: 1\n",
      "Input: [0.6655465847873195, 0.20751512205670736], Predicted Label: 1, Actual Label: 1\n",
      "Input: [0.9711892807509813, 0.11035654002816347], Predicted Label: 1, Actual Label: 1\n",
      "Input: [0.2908783769112648, 0.8463108461518679], Predicted Label: 1, Actual Label: 1\n",
      "Input: [0.373899986120462, 0.2914368379844384], Predicted Label: 0, Actual Label: 0\n",
      "Input: [0.35080130983628516, 0.6118898345325509], Predicted Label: 1, Actual Label: 1\n",
      "Input: [0.7394507367580325, 0.14430480328908402], Predicted Label: 1, Actual Label: 1\n",
      "Input: [0.22471318968502496, 0.365745173039871], Predicted Label: 0, Actual Label: 0\n",
      "Input: [0.23182255973855553, 0.550206791465917], Predicted Label: 1, Actual Label: 1\n",
      "Input: [0.9848703426567237, 0.8331367881062295], Predicted Label: 0, Actual Label: 0\n",
      "Input: [0.4848692168822407, 0.8917399674587086], Predicted Label: 1, Actual Label: 1\n",
      "Input: [0.9580369248695114, 0.8312267821328397], Predicted Label: 0, Actual Label: 0\n",
      "Input: [0.8615000628178678, 0.007784629868550441], Predicted Label: 1, Actual Label: 1\n",
      "Input: [0.6128287859754182, 0.5446615401624781], Predicted Label: 0, Actual Label: 0\n",
      "Input: [0.7286749284563909, 0.8391324184147666], Predicted Label: 0, Actual Label: 0\n",
      "Input: [0.4451572129323543, 0.4610536486547198], Predicted Label: 0, Actual Label: 0\n",
      "Input: [0.31796558245865625, 0.7055217555112543], Predicted Label: 1, Actual Label: 1\n",
      "Input: [0.6330160127271449, 0.08274200970648671], Predicted Label: 1, Actual Label: 1\n",
      "Input: [0.4398155291496111, 0.7574376044111328], Predicted Label: 1, Actual Label: 1\n",
      "Input: [0.6528820429254504, 0.28072952669343704], Predicted Label: 1, Actual Label: 1\n",
      "Input: [0.6646668011613708, 0.3537081123770673], Predicted Label: 1, Actual Label: 1\n",
      "Input: [0.2530778943507212, 0.6747999513658416], Predicted Label: 1, Actual Label: 1\n",
      "Input: [0.28644984362381204, 0.189861344598943], Predicted Label: 0, Actual Label: 0\n",
      "Input: [0.26631007857775857, 0.3070021762347213], Predicted Label: 0, Actual Label: 0\n",
      "Input: [0.4416881207933135, 0.29800712014446135], Predicted Label: 0, Actual Label: 0\n",
      "Input: [0.9883349760034572, 0.047655352023796005], Predicted Label: 1, Actual Label: 1\n",
      "Input: [0.2828655139872194, 0.0880121431231819], Predicted Label: 0, Actual Label: 0\n",
      "Input: [0.08613291245145699, 0.855221395601661], Predicted Label: 1, Actual Label: 1\n",
      "Input: [0.2684968435035585, 0.8620549725872069], Predicted Label: 1, Actual Label: 1\n",
      "Input: [0.2626245566121609, 0.08202440020530605], Predicted Label: 0, Actual Label: 0\n",
      "Input: [0.9522984386704685, 0.32500976847454666], Predicted Label: 1, Actual Label: 1\n",
      "Input: [0.7354197070851339, 0.06618539871597201], Predicted Label: 1, Actual Label: 1\n",
      "Input: [0.8230346645043609, 0.9110435380103432], Predicted Label: 0, Actual Label: 0\n",
      "Input: [0.10264463434859278, 0.7302688055794622], Predicted Label: 1, Actual Label: 1\n",
      "Input: [0.7415037717141879, 0.5231303811394112], Predicted Label: 0, Actual Label: 0\n",
      "Input: [0.23322036514675692, 0.9905009013972605], Predicted Label: 1, Actual Label: 1\n",
      "Input: [0.5409154675326493, 0.13038295945091538], Predicted Label: 1, Actual Label: 1\n",
      "Input: [0.5916679465397012, 0.9284076463613866], Predicted Label: 0, Actual Label: 0\n",
      "Input: [0.3091080695991204, 0.7489337135701983], Predicted Label: 1, Actual Label: 1\n",
      "Input: [0.8155070197968571, 0.1429122944723869], Predicted Label: 1, Actual Label: 1\n",
      "Input: [0.765918197938267, 0.19844700213102068], Predicted Label: 1, Actual Label: 1\n",
      "Input: [0.9646683680580062, 0.5471127886899577], Predicted Label: 0, Actual Label: 0\n",
      "Input: [0.665544267210346, 0.31148362836526655], Predicted Label: 1, Actual Label: 1\n",
      "Input: [0.8468560109039887, 0.8644732350458368], Predicted Label: 0, Actual Label: 0\n",
      "Input: [0.4775876354885517, 0.044998545109434684], Predicted Label: 0, Actual Label: 0\n",
      "Input: [0.7062716097007073, 0.8739256555288941], Predicted Label: 0, Actual Label: 0\n",
      "Input: [0.4071887124824967, 0.7240102362292286], Predicted Label: 1, Actual Label: 1\n",
      "Input: [0.8939261551733392, 0.995259400650971], Predicted Label: 0, Actual Label: 0\n",
      "Input: [0.26425973536341407, 0.6738644849865724], Predicted Label: 1, Actual Label: 1\n",
      "Input: [0.015166835286500369, 0.9767327007181874], Predicted Label: 1, Actual Label: 1\n",
      "Input: [0.47118804999341696, 0.157583109420174], Predicted Label: 0, Actual Label: 0\n",
      "Input: [0.6517395780298567, 0.5630685145798879], Predicted Label: 0, Actual Label: 0\n",
      "Input: [0.32979901738611517, 0.8527576136266148], Predicted Label: 1, Actual Label: 1\n",
      "Input: [0.15930730430240753, 0.8729873543649717], Predicted Label: 1, Actual Label: 1\n",
      "Input: [0.2762419883695191, 0.41175048111453394], Predicted Label: 0, Actual Label: 0\n",
      "Input: [0.4672030746616259, 0.0852425286664849], Predicted Label: 0, Actual Label: 0\n",
      "Input: [0.9480273300119524, 0.891746984517217], Predicted Label: 0, Actual Label: 0\n",
      "Input: [0.7602638507041164, 0.9614360221782308], Predicted Label: 0, Actual Label: 0\n",
      "Input: [0.7748385480176793, 0.9939850345665191], Predicted Label: 0, Actual Label: 0\n",
      "Input: [0.9613986044781558, 0.10552419711049071], Predicted Label: 1, Actual Label: 1\n",
      "Input: [0.6521459186535333, 0.2854294882754016], Predicted Label: 1, Actual Label: 1\n",
      "Input: [0.5369646975933381, 0.46580801075497963], Predicted Label: 1, Actual Label: 1\n",
      "Input: [0.11302834603809381, 0.038904843852260396], Predicted Label: 0, Actual Label: 0\n",
      "Input: [0.0065597497359138335, 0.007309102203111706], Predicted Label: 0, Actual Label: 0\n",
      "Input: [0.7929965526675564, 0.4666060884676158], Predicted Label: 1, Actual Label: 1\n",
      "Input: [0.9673950643506184, 0.32111768173072736], Predicted Label: 1, Actual Label: 1\n",
      "Input: [0.7555360342701187, 0.17850130558044475], Predicted Label: 1, Actual Label: 1\n",
      "Input: [0.8923136795013158, 0.9530407565951013], Predicted Label: 0, Actual Label: 0\n",
      "Input: [0.37583678615792526, 0.701786082279938], Predicted Label: 1, Actual Label: 1\n",
      "Input: [0.21312228644528497, 0.25620793855498564], Predicted Label: 0, Actual Label: 0\n",
      "Input: [0.3881531615493393, 0.8864859627658358], Predicted Label: 1, Actual Label: 1\n",
      "Input: [0.30720502218296963, 0.9764234748441889], Predicted Label: 1, Actual Label: 1\n",
      "Input: [0.3260686794555827, 0.620808702128328], Predicted Label: 1, Actual Label: 1\n",
      "Input: [0.9121294921816827, 0.8586077420618523], Predicted Label: 0, Actual Label: 0\n",
      "Input: [0.9214431711770129, 0.9319377442537471], Predicted Label: 0, Actual Label: 0\n",
      "Input: [0.6921261590174214, 0.586744135083702], Predicted Label: 0, Actual Label: 0\n",
      "Input: [0.44470570025187667, 0.27817386649882864], Predicted Label: 0, Actual Label: 0\n",
      "Input: [0.9215259963699735, 0.1917302172519239], Predicted Label: 1, Actual Label: 1\n",
      "Input: [0.10511245520537743, 0.6453268620535481], Predicted Label: 1, Actual Label: 1\n",
      "Input: [0.3023458477379194, 0.7952597814724962], Predicted Label: 1, Actual Label: 1\n",
      "Input: [0.3695855243584702, 0.47866161169737337], Predicted Label: 0, Actual Label: 0\n",
      "Input: [0.6740725546852642, 0.13140809961367805], Predicted Label: 1, Actual Label: 1\n",
      "Input: [0.4551166426403345, 0.5318030735493726], Predicted Label: 1, Actual Label: 1\n",
      "Input: [0.3605477557212842, 0.13797437627487513], Predicted Label: 0, Actual Label: 0\n",
      "Input: [0.3405243514532628, 0.8926920989525606], Predicted Label: 1, Actual Label: 1\n",
      "Input: [0.09544971893828769, 0.5139627824542539], Predicted Label: 1, Actual Label: 1\n",
      "Input: [0.7517930217590161, 0.31630869370250647], Predicted Label: 1, Actual Label: 1\n",
      "Input: [0.6109587681225145, 0.8073837764223053], Predicted Label: 0, Actual Label: 0\n",
      "Input: [0.16496623805697208, 0.618387274616826], Predicted Label: 1, Actual Label: 1\n",
      "Input: [0.1209689881786995, 0.10123562182767598], Predicted Label: 0, Actual Label: 0\n",
      "Input: [0.9812490129386187, 0.8730736361194766], Predicted Label: 0, Actual Label: 0\n",
      "Input: [0.8525184161505062, 0.9528055463471943], Predicted Label: 0, Actual Label: 0\n",
      "Input: [0.317767244280402, 0.20134909171593773], Predicted Label: 0, Actual Label: 0\n",
      "Input: [0.5542423726277758, 0.740535012461067], Predicted Label: 0, Actual Label: 0\n",
      "Input: [0.9861370724869245, 0.38879379747330506], Predicted Label: 1, Actual Label: 1\n",
      "Input: [0.40990080947184154, 0.5329614899643841], Predicted Label: 1, Actual Label: 1\n",
      "Input: [0.742979287998671, 0.5404064853071], Predicted Label: 0, Actual Label: 0\n",
      "Input: [0.9799338332571106, 0.4089784112400376], Predicted Label: 1, Actual Label: 1\n",
      "Input: [0.5482875498938288, 0.0849832974615864], Predicted Label: 1, Actual Label: 1\n",
      "Input: [0.00873289270996419, 0.21824752458131141], Predicted Label: 0, Actual Label: 0\n",
      "Input: [0.7736881355906622, 0.12248316496998102], Predicted Label: 1, Actual Label: 1\n",
      "Input: [0.9834049675255878, 0.2534869721315967], Predicted Label: 1, Actual Label: 1\n",
      "Input: [0.582653922050339, 0.0007651499302185338], Predicted Label: 1, Actual Label: 1\n",
      "Input: [0.04166031810112658, 0.44270574665583434], Predicted Label: 0, Actual Label: 0\n",
      "Input: [0.6698313019384348, 0.6215500449442412], Predicted Label: 0, Actual Label: 0\n",
      "Input: [0.5101761898674162, 0.3823653163068977], Predicted Label: 1, Actual Label: 1\n",
      "Input: [0.14793064694401498, 0.254163507548964], Predicted Label: 0, Actual Label: 0\n",
      "Input: [0.2517389688887916, 0.5703769634743301], Predicted Label: 1, Actual Label: 1\n",
      "Input: [0.05857422088556147, 0.39589449124637927], Predicted Label: 0, Actual Label: 0\n",
      "Input: [0.1257223250291849, 0.28497758068433326], Predicted Label: 0, Actual Label: 0\n",
      "Input: [0.4471712261277251, 0.8191026022392085], Predicted Label: 1, Actual Label: 1\n",
      "Input: [0.1613654773962937, 0.25808537592828895], Predicted Label: 0, Actual Label: 0\n",
      "Input: [0.44031290899688574, 0.9598462737663893], Predicted Label: 1, Actual Label: 1\n",
      "Input: [0.6395652001348208, 0.5301599078307311], Predicted Label: 0, Actual Label: 0\n",
      "Input: [0.7503226485715053, 0.16134063171161184], Predicted Label: 1, Actual Label: 1\n",
      "Input: [0.5979777382041558, 0.2811473290101774], Predicted Label: 1, Actual Label: 1\n",
      "Input: [0.3608754946148188, 0.6758180077949587], Predicted Label: 1, Actual Label: 1\n",
      "Input: [0.02529662862166754, 0.7262425102046749], Predicted Label: 1, Actual Label: 1\n",
      "Input: [0.8139974281274472, 0.1084468861950042], Predicted Label: 1, Actual Label: 1\n",
      "Input: [0.7561042130398639, 0.7841194443638833], Predicted Label: 0, Actual Label: 0\n",
      "Input: [0.3840257395307408, 0.9940512067571458], Predicted Label: 1, Actual Label: 1\n",
      "Input: [0.21614691542380587, 0.23930654467547768], Predicted Label: 0, Actual Label: 0\n",
      "Input: [0.6321643966714879, 0.9264284920123764], Predicted Label: 0, Actual Label: 0\n",
      "Input: [0.4886934250687112, 0.3394761383247666], Predicted Label: 0, Actual Label: 0\n",
      "Input: [0.21339741544331925, 0.6366842948059213], Predicted Label: 1, Actual Label: 1\n",
      "Input: [0.5885922680006979, 0.5610939784172986], Predicted Label: 0, Actual Label: 0\n",
      "Input: [0.37903612312499463, 0.7617521602334105], Predicted Label: 1, Actual Label: 1\n",
      "Input: [0.40675084462652306, 0.4000819492701416], Predicted Label: 0, Actual Label: 0\n",
      "Input: [0.8681782364018537, 0.04086749094262737], Predicted Label: 1, Actual Label: 1\n",
      "Input: [0.5640908711465313, 0.9670624555960674], Predicted Label: 0, Actual Label: 0\n",
      "Input: [0.12325237851410292, 0.7250956553728114], Predicted Label: 1, Actual Label: 1\n",
      "Input: [0.5660226051051246, 0.8184662371027992], Predicted Label: 0, Actual Label: 0\n",
      "Input: [0.6898460635431238, 0.4196488847429627], Predicted Label: 1, Actual Label: 1\n",
      "Input: [0.7756675990253736, 0.5582033625813139], Predicted Label: 0, Actual Label: 0\n",
      "Input: [0.11656804976774005, 0.016554643425141014], Predicted Label: 0, Actual Label: 0\n",
      "Input: [0.9252146388170222, 0.6564787486469097], Predicted Label: 0, Actual Label: 0\n",
      "Input: [0.39611774314655296, 0.48355461008069994], Predicted Label: 0, Actual Label: 0\n",
      "Input: [0.7369891052545405, 0.41902517232740866], Predicted Label: 1, Actual Label: 1\n",
      "Input: [0.7904790748502593, 0.6721131188758056], Predicted Label: 0, Actual Label: 0\n",
      "Input: [0.8387953761122293, 0.3255066871180647], Predicted Label: 1, Actual Label: 1\n",
      "Input: [0.18136036204585165, 0.4325006161148297], Predicted Label: 0, Actual Label: 0\n",
      "Input: [0.41137864391225465, 0.07592919317940017], Predicted Label: 0, Actual Label: 0\n",
      "Input: [0.7535553398827264, 0.08716677252663818], Predicted Label: 1, Actual Label: 1\n",
      "Input: [0.5719566536566771, 0.990906822752476], Predicted Label: 0, Actual Label: 0\n",
      "Input: [0.8408529621850208, 0.4378510718084866], Predicted Label: 1, Actual Label: 1\n",
      "Input: [0.4416943273327158, 0.5475198297220822], Predicted Label: 1, Actual Label: 1\n",
      "Input: [0.21350785378768278, 0.3682466842491745], Predicted Label: 0, Actual Label: 0\n",
      "Input: [0.6217118352737705, 0.12615679106751315], Predicted Label: 1, Actual Label: 1\n",
      "Input: [0.9337606516407446, 0.49328043870323107], Predicted Label: 1, Actual Label: 1\n",
      "Input: [0.18285400726984608, 0.0453120933716612], Predicted Label: 0, Actual Label: 0\n",
      "Input: [0.9765784527231127, 0.0627024096470783], Predicted Label: 1, Actual Label: 1\n",
      "Input: [0.9726136931207394, 0.0609807146300646], Predicted Label: 1, Actual Label: 1\n",
      "Input: [0.6144463019949242, 0.8427570238136213], Predicted Label: 0, Actual Label: 0\n",
      "Input: [0.23082354350245182, 0.6106273342761244], Predicted Label: 1, Actual Label: 1\n",
      "Input: [0.8595251350487481, 0.6186278699777881], Predicted Label: 0, Actual Label: 0\n",
      "Input: [0.3093373067849951, 0.14479973730029666], Predicted Label: 0, Actual Label: 0\n",
      "Input: [0.7322006530177851, 0.5667096223684083], Predicted Label: 0, Actual Label: 0\n",
      "Input: [0.7425805350131797, 0.22715759901144222], Predicted Label: 1, Actual Label: 1\n",
      "Input: [0.08853114703325066, 0.6973803570714348], Predicted Label: 1, Actual Label: 1\n",
      "Input: [0.42098779252367696, 0.9765549627404138], Predicted Label: 1, Actual Label: 1\n",
      "Input: [0.4992015860392853, 0.8894060745489261], Predicted Label: 0, Actual Label: 1\n",
      "Input: [0.08476881872928471, 0.21369364281931125], Predicted Label: 0, Actual Label: 0\n",
      "Input: [0.3298633200565758, 0.939550808390109], Predicted Label: 1, Actual Label: 1\n",
      "Input: [0.2969235905386264, 0.24043109150090192], Predicted Label: 0, Actual Label: 0\n",
      "Input: [0.4071122816352799, 0.6308974131855724], Predicted Label: 1, Actual Label: 1\n",
      "Input: [0.49294691467712515, 0.9784918679265469], Predicted Label: 1, Actual Label: 1\n",
      "Input: [0.23174540075680322, 0.1533362898706067], Predicted Label: 0, Actual Label: 0\n",
      "Input: [0.4448534329348322, 0.35526086644164867], Predicted Label: 0, Actual Label: 0\n",
      "Input: [0.2661379816365253, 0.2916766337430972], Predicted Label: 0, Actual Label: 0\n",
      "Input: [0.22382698995748546, 0.480126947250958], Predicted Label: 0, Actual Label: 0\n",
      "Input: [0.14813995485991432, 0.2506364723520482], Predicted Label: 0, Actual Label: 0\n",
      "Input: [0.854126925949956, 0.661349699772513], Predicted Label: 0, Actual Label: 0\n",
      "Input: [0.1591152638799892, 0.7900835950738676], Predicted Label: 1, Actual Label: 1\n",
      "Input: [0.19526583926544483, 0.3071998639126666], Predicted Label: 0, Actual Label: 0\n",
      "Input: [0.036083330467984454, 0.6742040766230781], Predicted Label: 1, Actual Label: 1\n",
      "Input: [0.8360163308655262, 0.07538516558436409], Predicted Label: 1, Actual Label: 1\n",
      "Input: [0.772370077122236, 0.0020865738451624205], Predicted Label: 1, Actual Label: 1\n",
      "Input: [0.422122296766535, 0.9132403159860005], Predicted Label: 1, Actual Label: 1\n",
      "Input: [0.358476630159494, 0.27106154471234056], Predicted Label: 0, Actual Label: 0\n",
      "Input: [0.7394023047780478, 0.46372788779079266], Predicted Label: 1, Actual Label: 1\n",
      "Input: [0.18597679694255975, 0.40044782769595494], Predicted Label: 0, Actual Label: 0\n",
      "Input: [0.0071557175961621255, 0.11351974824680489], Predicted Label: 0, Actual Label: 0\n",
      "Input: [0.5945628049051346, 0.5590088081105973], Predicted Label: 0, Actual Label: 0\n",
      "Input: [0.8842785556559183, 0.7837370093507126], Predicted Label: 0, Actual Label: 0\n",
      "Input: [0.9512731806407166, 0.27991508836555307], Predicted Label: 1, Actual Label: 1\n",
      "Input: [0.2784886934395191, 0.3896372131244329], Predicted Label: 0, Actual Label: 0\n",
      "Input: [0.05028993025587031, 0.31838847351461114], Predicted Label: 0, Actual Label: 0\n",
      "Input: [0.31833745660281226, 0.8307477552928715], Predicted Label: 1, Actual Label: 1\n",
      "\n",
      "Validation Accuracy: 99.00%\n"
     ]
    }
   ],
   "source": [
    "correct_predictions = 0\n",
    "print(\"\\nValidation Results:\")\n",
    "if len(validation_data) > 0:\n",
    "    for data in validation_data:\n",
    "        inputs = [data[0], data[1]]\n",
    "        prediction = mlp.predict(inputs)\n",
    "        actual_label = int(data[2])\n",
    "        print(f\"Input: {inputs}, Predicted Label: {prediction}, Actual Label: {actual_label}\")\n",
    "        if prediction == actual_label:\n",
    "            correct_predictions += 1\n",
    "    accuracy = (correct_predictions / len(validation_data)) * 100\n",
    "    print(f\"\\nValidation Accuracy: {accuracy:.2f}%\")\n",
    "else:\n",
    "    print(\"No validation data available.\")"
   ]
  },
  {
   "cell_type": "code",
   "execution_count": 10,
   "metadata": {
    "execution": {
     "iopub.execute_input": "2025-03-16T06:37:07.903238Z",
     "iopub.status.busy": "2025-03-16T06:37:07.902848Z",
     "iopub.status.idle": "2025-03-16T06:37:08.325822Z",
     "shell.execute_reply": "2025-03-16T06:37:08.324706Z",
     "shell.execute_reply.started": "2025-03-16T06:37:07.903206Z"
    },
    "trusted": true
   },
   "outputs": [
    {
     "data": {
      "image/png": "[encoded data removed]",
      "text/plain": [
       "<Figure size 1000x500 with 1 Axes>"
      ]
     },
     "metadata": {},
     "output_type": "display_data"
    },
    {
     "data": {
      "image/png": "[encoded data removed]",
      "text/plain": [
       "<Figure size 500x400 with 2 Axes>"
      ]
     },
     "metadata": {},
     "output_type": "display_data"
    }
   ],
   "source": [
    "\n",
    "import matplotlib.pyplot as plt\n",
    "import seaborn as sns\n",
    "import numpy as np\n",
    "from sklearn.metrics import confusion_matrix\n",
    "\n",
    "# Plot training loss\n",
    "plt.figure(figsize=(10,5))\n",
    "plt.plot(mlp.training_loss, label='Training Loss', color='blue')\n",
    "plt.xlabel(\"Epochs\")\n",
    "plt.ylabel(\"Loss\")\n",
    "plt.title(\"Training Loss Over Epochs\")\n",
    "plt.legend()\n",
    "plt.show()\n",
    "\n",
    "# Confusion Matrix\n",
    "true_labels = []\n",
    "predicted_labels = []\n",
    "for data in validation_data:\n",
    "    inputs = [data[0], data[1]]\n",
    "    predicted_labels.append(mlp.predict(inputs))\n",
    "    true_labels.append(int(data[2]))\n",
    "\n",
    "# Compute confusion matrix\n",
    "conf_matrix = confusion_matrix(true_labels, predicted_labels)\n",
    "plt.figure(figsize=(5, 4))\n",
    "sns.heatmap(conf_matrix, annot=True, fmt='d', cmap='Blues', xticklabels=['Class 0', 'Class 1'], yticklabels=['Class 0', 'Class 1'])\n",
    "plt.xlabel(\"Predicted Label\")\n",
    "plt.ylabel(\"True Label\")\n",
    "plt.title(\"Confusion Matrix\")\n",
    "plt.show()"
   ]
  }
 ],
 "metadata": {
  "kaggle": {
   "accelerator": "none",
   "dataSources": [
    {
     "datasetId": 6840431,
     "sourceId": 10990117,
     "sourceType": "datasetVersion"
    },
    {
     "datasetId": 6881166,
     "sourceId": 11046479,
     "sourceType": "datasetVersion"
    }
   ],
   "dockerImageVersionId": 30918,
   "isGpuEnabled": false,
   "isInternetEnabled": true,
   "language": "python",
   "sourceType": "notebook"
  },
  "kernelspec": {
   "display_name": "Python 3",
   "language": "python",
   "name": "python3"
  },
  "language_info": {
   "codemirror_mode": {
    "name": "ipython",
    "version": 3
   },
   "file_extension": ".py",
   "mimetype": "text/x-python",
   "name": "python",
   "nbconvert_exporter": "python",
   "pygments_lexer": "ipython3",
   "version": "3.12.5"
  }
 },
 "nbformat": 4,
 "nbformat_minor": 4
}
